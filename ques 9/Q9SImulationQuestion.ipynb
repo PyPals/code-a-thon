{
 "cells": [
  {
   "cell_type": "code",
   "execution_count": 1,
   "metadata": {
    "collapsed": false
   },
   "outputs": [
    {
     "name": "stderr",
     "output_type": "stream",
     "text": [
      "2016-10-29 17:26:53,537 [INFO] graphlab.cython.cy_server, 176: GraphLab Create v1.8.5 started. Logging: /tmp/graphlab_server_1477742209.log\n"
     ]
    },
    {
     "name": "stdout",
     "output_type": "stream",
     "text": [
      "This non-commercial license of GraphLab Create for academic use is assigned to purak.jain@learner.manipal.edu and will expire on November 11, 2016.\n"
     ]
    }
   ],
   "source": [
    "import graphlab\n",
    "import matplotlib.pyplot as plt\n",
    "import numpy as np\n",
    "%matplotlib inline"
   ]
  },
  {
   "cell_type": "code",
   "execution_count": 3,
   "metadata": {
    "collapsed": false
   },
   "outputs": [
    {
     "data": {
      "text/html": [
       "<pre>Finished parsing file /home/prk/Desktop/Desk/MachineLearning/Coursera/flynava/question_9_data_simulation.csv</pre>"
      ],
      "text/plain": [
       "Finished parsing file /home/prk/Desktop/Desk/MachineLearning/Coursera/flynava/question_9_data_simulation.csv"
      ]
     },
     "metadata": {},
     "output_type": "display_data"
    },
    {
     "data": {
      "text/html": [
       "<pre>Parsing completed. Parsed 62 lines in 0.021604 secs.</pre>"
      ],
      "text/plain": [
       "Parsing completed. Parsed 62 lines in 0.021604 secs."
      ]
     },
     "metadata": {},
     "output_type": "display_data"
    },
    {
     "data": {
      "text/html": [
       "<pre>Finished parsing file /home/prk/Desktop/Desk/MachineLearning/Coursera/flynava/question_9_data_simulation.csv</pre>"
      ],
      "text/plain": [
       "Finished parsing file /home/prk/Desktop/Desk/MachineLearning/Coursera/flynava/question_9_data_simulation.csv"
      ]
     },
     "metadata": {},
     "output_type": "display_data"
    },
    {
     "data": {
      "text/html": [
       "<pre>Parsing completed. Parsed 62 lines in 0.021521 secs.</pre>"
      ],
      "text/plain": [
       "Parsing completed. Parsed 62 lines in 0.021521 secs."
      ]
     },
     "metadata": {},
     "output_type": "display_data"
    },
    {
     "name": "stdout",
     "output_type": "stream",
     "text": [
      "------------------------------------------------------\n",
      "Inferred types from first line of file as \n",
      "column_type_hints=[str,str,str,str,float,float,int,float,float,int,int,float,int,float]\n",
      "If parsing fails due to incorrect types, you can correct\n",
      "the inferred type list above and pass it to read_csv in\n",
      "the column_type_hints argument\n",
      "------------------------------------------------------\n"
     ]
    }
   ],
   "source": [
    "sh = graphlab.SFrame(data = 'question_9_data_simulation.csv')"
   ]
  },
  {
   "cell_type": "code",
   "execution_count": 4,
   "metadata": {
    "collapsed": false
   },
   "outputs": [
    {
     "data": {
      "text/html": [
       "<div style=\"max-height:1000px;max-width:1500px;overflow:auto;\"><table frame=\"box\" rules=\"cols\">\n",
       "    <tr>\n",
       "        <th style=\"padding-left: 1em; padding-right: 1em; text-align: center\">Date</th>\n",
       "        <th style=\"padding-left: 1em; padding-right: 1em; text-align: center\">Origin</th>\n",
       "        <th style=\"padding-left: 1em; padding-right: 1em; text-align: center\">Destination</th>\n",
       "        <th style=\"padding-left: 1em; padding-right: 1em; text-align: center\">Compartment</th>\n",
       "        <th style=\"padding-left: 1em; padding-right: 1em; text-align: center\">Revenue</th>\n",
       "        <th style=\"padding-left: 1em; padding-right: 1em; text-align: center\">Ave Price</th>\n",
       "        <th style=\"padding-left: 1em; padding-right: 1em; text-align: center\">Pax_host</th>\n",
       "        <th style=\"padding-left: 1em; padding-right: 1em; text-align: center\">Market_Share_host</th>\n",
       "        <th style=\"padding-left: 1em; padding-right: 1em; text-align: center\">Market Share comp</th>\n",
       "    </tr>\n",
       "    <tr>\n",
       "        <td style=\"padding-left: 1em; padding-right: 1em; text-align: center; vertical-align: top\">01/07/2016</td>\n",
       "        <td style=\"padding-left: 1em; padding-right: 1em; text-align: center; vertical-align: top\">ABC</td>\n",
       "        <td style=\"padding-left: 1em; padding-right: 1em; text-align: center; vertical-align: top\">XYZ</td>\n",
       "        <td style=\"padding-left: 1em; padding-right: 1em; text-align: center; vertical-align: top\">Y</td>\n",
       "        <td style=\"padding-left: 1em; padding-right: 1em; text-align: center; vertical-align: top\">50807.079</td>\n",
       "        <td style=\"padding-left: 1em; padding-right: 1em; text-align: center; vertical-align: top\">218.1</td>\n",
       "        <td style=\"padding-left: 1em; padding-right: 1em; text-align: center; vertical-align: top\">233</td>\n",
       "        <td style=\"padding-left: 1em; padding-right: 1em; text-align: center; vertical-align: top\">0.155</td>\n",
       "        <td style=\"padding-left: 1em; padding-right: 1em; text-align: center; vertical-align: top\">0.845</td>\n",
       "    </tr>\n",
       "    <tr>\n",
       "        <td style=\"padding-left: 1em; padding-right: 1em; text-align: center; vertical-align: top\">02/07/2016</td>\n",
       "        <td style=\"padding-left: 1em; padding-right: 1em; text-align: center; vertical-align: top\">ABC</td>\n",
       "        <td style=\"padding-left: 1em; padding-right: 1em; text-align: center; vertical-align: top\">XYZ</td>\n",
       "        <td style=\"padding-left: 1em; padding-right: 1em; text-align: center; vertical-align: top\">Y</td>\n",
       "        <td style=\"padding-left: 1em; padding-right: 1em; text-align: center; vertical-align: top\">68904.07</td>\n",
       "        <td style=\"padding-left: 1em; padding-right: 1em; text-align: center; vertical-align: top\">245.2</td>\n",
       "        <td style=\"padding-left: 1em; padding-right: 1em; text-align: center; vertical-align: top\">281</td>\n",
       "        <td style=\"padding-left: 1em; padding-right: 1em; text-align: center; vertical-align: top\">0.1488</td>\n",
       "        <td style=\"padding-left: 1em; padding-right: 1em; text-align: center; vertical-align: top\">0.8512</td>\n",
       "    </tr>\n",
       "    <tr>\n",
       "        <td style=\"padding-left: 1em; padding-right: 1em; text-align: center; vertical-align: top\">03/07/2016</td>\n",
       "        <td style=\"padding-left: 1em; padding-right: 1em; text-align: center; vertical-align: top\">ABC</td>\n",
       "        <td style=\"padding-left: 1em; padding-right: 1em; text-align: center; vertical-align: top\">XYZ</td>\n",
       "        <td style=\"padding-left: 1em; padding-right: 1em; text-align: center; vertical-align: top\">Y</td>\n",
       "        <td style=\"padding-left: 1em; padding-right: 1em; text-align: center; vertical-align: top\">67729.81</td>\n",
       "        <td style=\"padding-left: 1em; padding-right: 1em; text-align: center; vertical-align: top\">249.9</td>\n",
       "        <td style=\"padding-left: 1em; padding-right: 1em; text-align: center; vertical-align: top\">271</td>\n",
       "        <td style=\"padding-left: 1em; padding-right: 1em; text-align: center; vertical-align: top\">0.1518</td>\n",
       "        <td style=\"padding-left: 1em; padding-right: 1em; text-align: center; vertical-align: top\">0.8482</td>\n",
       "    </tr>\n",
       "    <tr>\n",
       "        <td style=\"padding-left: 1em; padding-right: 1em; text-align: center; vertical-align: top\">04/07/2016</td>\n",
       "        <td style=\"padding-left: 1em; padding-right: 1em; text-align: center; vertical-align: top\">ABC</td>\n",
       "        <td style=\"padding-left: 1em; padding-right: 1em; text-align: center; vertical-align: top\">XYZ</td>\n",
       "        <td style=\"padding-left: 1em; padding-right: 1em; text-align: center; vertical-align: top\">Y</td>\n",
       "        <td style=\"padding-left: 1em; padding-right: 1em; text-align: center; vertical-align: top\">78116.12</td>\n",
       "        <td style=\"padding-left: 1em; padding-right: 1em; text-align: center; vertical-align: top\">218.8</td>\n",
       "        <td style=\"padding-left: 1em; padding-right: 1em; text-align: center; vertical-align: top\">357</td>\n",
       "        <td style=\"padding-left: 1em; padding-right: 1em; text-align: center; vertical-align: top\">0.1472</td>\n",
       "        <td style=\"padding-left: 1em; padding-right: 1em; text-align: center; vertical-align: top\">0.8528</td>\n",
       "    </tr>\n",
       "    <tr>\n",
       "        <td style=\"padding-left: 1em; padding-right: 1em; text-align: center; vertical-align: top\">05/07/2016</td>\n",
       "        <td style=\"padding-left: 1em; padding-right: 1em; text-align: center; vertical-align: top\">ABC</td>\n",
       "        <td style=\"padding-left: 1em; padding-right: 1em; text-align: center; vertical-align: top\">XYZ</td>\n",
       "        <td style=\"padding-left: 1em; padding-right: 1em; text-align: center; vertical-align: top\">Y</td>\n",
       "        <td style=\"padding-left: 1em; padding-right: 1em; text-align: center; vertical-align: top\">98411.26</td>\n",
       "        <td style=\"padding-left: 1em; padding-right: 1em; text-align: center; vertical-align: top\">181.2</td>\n",
       "        <td style=\"padding-left: 1em; padding-right: 1em; text-align: center; vertical-align: top\">543</td>\n",
       "        <td style=\"padding-left: 1em; padding-right: 1em; text-align: center; vertical-align: top\">0.1428</td>\n",
       "        <td style=\"padding-left: 1em; padding-right: 1em; text-align: center; vertical-align: top\">0.8572</td>\n",
       "    </tr>\n",
       "    <tr>\n",
       "        <td style=\"padding-left: 1em; padding-right: 1em; text-align: center; vertical-align: top\">06/07/2016</td>\n",
       "        <td style=\"padding-left: 1em; padding-right: 1em; text-align: center; vertical-align: top\">ABC</td>\n",
       "        <td style=\"padding-left: 1em; padding-right: 1em; text-align: center; vertical-align: top\">XYZ</td>\n",
       "        <td style=\"padding-left: 1em; padding-right: 1em; text-align: center; vertical-align: top\">Y</td>\n",
       "        <td style=\"padding-left: 1em; padding-right: 1em; text-align: center; vertical-align: top\">68527.47</td>\n",
       "        <td style=\"padding-left: 1em; padding-right: 1em; text-align: center; vertical-align: top\">190.4</td>\n",
       "        <td style=\"padding-left: 1em; padding-right: 1em; text-align: center; vertical-align: top\">360</td>\n",
       "        <td style=\"padding-left: 1em; padding-right: 1em; text-align: center; vertical-align: top\">0.1385</td>\n",
       "        <td style=\"padding-left: 1em; padding-right: 1em; text-align: center; vertical-align: top\">0.8615</td>\n",
       "    </tr>\n",
       "    <tr>\n",
       "        <td style=\"padding-left: 1em; padding-right: 1em; text-align: center; vertical-align: top\">07/07/2016</td>\n",
       "        <td style=\"padding-left: 1em; padding-right: 1em; text-align: center; vertical-align: top\">ABC</td>\n",
       "        <td style=\"padding-left: 1em; padding-right: 1em; text-align: center; vertical-align: top\">XYZ</td>\n",
       "        <td style=\"padding-left: 1em; padding-right: 1em; text-align: center; vertical-align: top\">Y</td>\n",
       "        <td style=\"padding-left: 1em; padding-right: 1em; text-align: center; vertical-align: top\">55495.09</td>\n",
       "        <td style=\"padding-left: 1em; padding-right: 1em; text-align: center; vertical-align: top\">215.9</td>\n",
       "        <td style=\"padding-left: 1em; padding-right: 1em; text-align: center; vertical-align: top\">257</td>\n",
       "        <td style=\"padding-left: 1em; padding-right: 1em; text-align: center; vertical-align: top\">0.1454</td>\n",
       "        <td style=\"padding-left: 1em; padding-right: 1em; text-align: center; vertical-align: top\">0.8546</td>\n",
       "    </tr>\n",
       "    <tr>\n",
       "        <td style=\"padding-left: 1em; padding-right: 1em; text-align: center; vertical-align: top\">08/07/2016</td>\n",
       "        <td style=\"padding-left: 1em; padding-right: 1em; text-align: center; vertical-align: top\">ABC</td>\n",
       "        <td style=\"padding-left: 1em; padding-right: 1em; text-align: center; vertical-align: top\">XYZ</td>\n",
       "        <td style=\"padding-left: 1em; padding-right: 1em; text-align: center; vertical-align: top\">Y</td>\n",
       "        <td style=\"padding-left: 1em; padding-right: 1em; text-align: center; vertical-align: top\">40790.14</td>\n",
       "        <td style=\"padding-left: 1em; padding-right: 1em; text-align: center; vertical-align: top\">173.6</td>\n",
       "        <td style=\"padding-left: 1em; padding-right: 1em; text-align: center; vertical-align: top\">235</td>\n",
       "        <td style=\"padding-left: 1em; padding-right: 1em; text-align: center; vertical-align: top\">0.144</td>\n",
       "        <td style=\"padding-left: 1em; padding-right: 1em; text-align: center; vertical-align: top\">0.856</td>\n",
       "    </tr>\n",
       "    <tr>\n",
       "        <td style=\"padding-left: 1em; padding-right: 1em; text-align: center; vertical-align: top\">09/07/2016</td>\n",
       "        <td style=\"padding-left: 1em; padding-right: 1em; text-align: center; vertical-align: top\">ABC</td>\n",
       "        <td style=\"padding-left: 1em; padding-right: 1em; text-align: center; vertical-align: top\">XYZ</td>\n",
       "        <td style=\"padding-left: 1em; padding-right: 1em; text-align: center; vertical-align: top\">Y</td>\n",
       "        <td style=\"padding-left: 1em; padding-right: 1em; text-align: center; vertical-align: top\">111365.37</td>\n",
       "        <td style=\"padding-left: 1em; padding-right: 1em; text-align: center; vertical-align: top\">194.7</td>\n",
       "        <td style=\"padding-left: 1em; padding-right: 1em; text-align: center; vertical-align: top\">572</td>\n",
       "        <td style=\"padding-left: 1em; padding-right: 1em; text-align: center; vertical-align: top\">0.1426</td>\n",
       "        <td style=\"padding-left: 1em; padding-right: 1em; text-align: center; vertical-align: top\">0.8574</td>\n",
       "    </tr>\n",
       "    <tr>\n",
       "        <td style=\"padding-left: 1em; padding-right: 1em; text-align: center; vertical-align: top\">10/07/2016</td>\n",
       "        <td style=\"padding-left: 1em; padding-right: 1em; text-align: center; vertical-align: top\">ABC</td>\n",
       "        <td style=\"padding-left: 1em; padding-right: 1em; text-align: center; vertical-align: top\">XYZ</td>\n",
       "        <td style=\"padding-left: 1em; padding-right: 1em; text-align: center; vertical-align: top\">Y</td>\n",
       "        <td style=\"padding-left: 1em; padding-right: 1em; text-align: center; vertical-align: top\">125931.77</td>\n",
       "        <td style=\"padding-left: 1em; padding-right: 1em; text-align: center; vertical-align: top\">200.2</td>\n",
       "        <td style=\"padding-left: 1em; padding-right: 1em; text-align: center; vertical-align: top\">629</td>\n",
       "        <td style=\"padding-left: 1em; padding-right: 1em; text-align: center; vertical-align: top\">0.1397</td>\n",
       "        <td style=\"padding-left: 1em; padding-right: 1em; text-align: center; vertical-align: top\">0.8603</td>\n",
       "    </tr>\n",
       "</table>\n",
       "<table frame=\"box\" rules=\"cols\">\n",
       "    <tr>\n",
       "        <th style=\"padding-left: 1em; padding-right: 1em; text-align: center\">pax_competitor</th>\n",
       "        <th style=\"padding-left: 1em; padding-right: 1em; text-align: center\">Market Size</th>\n",
       "        <th style=\"padding-left: 1em; padding-right: 1em; text-align: center\">Forecast_Revenue_host</th>\n",
       "        <th style=\"padding-left: 1em; padding-right: 1em; text-align: center\">Capacity</th>\n",
       "        <th style=\"padding-left: 1em; padding-right: 1em; text-align: center\">Ave Seat Factor</th>\n",
       "    </tr>\n",
       "    <tr>\n",
       "        <td style=\"padding-left: 1em; padding-right: 1em; text-align: center; vertical-align: top\">1270</td>\n",
       "        <td style=\"padding-left: 1em; padding-right: 1em; text-align: center; vertical-align: top\">1503</td>\n",
       "        <td style=\"padding-left: 1em; padding-right: 1em; text-align: center; vertical-align: top\">28613784.3105</td>\n",
       "        <td style=\"padding-left: 1em; padding-right: 1em; text-align: center; vertical-align: top\">700</td>\n",
       "        <td style=\"padding-left: 1em; padding-right: 1em; text-align: center; vertical-align: top\">0.333</td>\n",
       "    </tr>\n",
       "    <tr>\n",
       "        <td style=\"padding-left: 1em; padding-right: 1em; text-align: center; vertical-align: top\">1607</td>\n",
       "        <td style=\"padding-left: 1em; padding-right: 1em; text-align: center; vertical-align: top\">1888</td>\n",
       "        <td style=\"padding-left: 1em; padding-right: 1em; text-align: center; vertical-align: top\">29480029.5603</td>\n",
       "        <td style=\"padding-left: 1em; padding-right: 1em; text-align: center; vertical-align: top\">700</td>\n",
       "        <td style=\"padding-left: 1em; padding-right: 1em; text-align: center; vertical-align: top\">0.401</td>\n",
       "    </tr>\n",
       "    <tr>\n",
       "        <td style=\"padding-left: 1em; padding-right: 1em; text-align: center; vertical-align: top\">1515</td>\n",
       "        <td style=\"padding-left: 1em; padding-right: 1em; text-align: center; vertical-align: top\">1786</td>\n",
       "        <td style=\"padding-left: 1em; padding-right: 1em; text-align: center; vertical-align: top\">30463326.9993</td>\n",
       "        <td style=\"padding-left: 1em; padding-right: 1em; text-align: center; vertical-align: top\">700</td>\n",
       "        <td style=\"padding-left: 1em; padding-right: 1em; text-align: center; vertical-align: top\">0.387</td>\n",
       "    </tr>\n",
       "    <tr>\n",
       "        <td style=\"padding-left: 1em; padding-right: 1em; text-align: center; vertical-align: top\">2068</td>\n",
       "        <td style=\"padding-left: 1em; padding-right: 1em; text-align: center; vertical-align: top\">2425</td>\n",
       "        <td style=\"padding-left: 1em; padding-right: 1em; text-align: center; vertical-align: top\">30543187.5017</td>\n",
       "        <td style=\"padding-left: 1em; padding-right: 1em; text-align: center; vertical-align: top\">700</td>\n",
       "        <td style=\"padding-left: 1em; padding-right: 1em; text-align: center; vertical-align: top\">0.51</td>\n",
       "    </tr>\n",
       "    <tr>\n",
       "        <td style=\"padding-left: 1em; padding-right: 1em; text-align: center; vertical-align: top\">3259</td>\n",
       "        <td style=\"padding-left: 1em; padding-right: 1em; text-align: center; vertical-align: top\">3802</td>\n",
       "        <td style=\"padding-left: 1em; padding-right: 1em; text-align: center; vertical-align: top\">30016324.1457</td>\n",
       "        <td style=\"padding-left: 1em; padding-right: 1em; text-align: center; vertical-align: top\">700</td>\n",
       "        <td style=\"padding-left: 1em; padding-right: 1em; text-align: center; vertical-align: top\">0.776</td>\n",
       "    </tr>\n",
       "    <tr>\n",
       "        <td style=\"padding-left: 1em; padding-right: 1em; text-align: center; vertical-align: top\">2239</td>\n",
       "        <td style=\"padding-left: 1em; padding-right: 1em; text-align: center; vertical-align: top\">2599</td>\n",
       "        <td style=\"padding-left: 1em; padding-right: 1em; text-align: center; vertical-align: top\">30574258.3228</td>\n",
       "        <td style=\"padding-left: 1em; padding-right: 1em; text-align: center; vertical-align: top\">700</td>\n",
       "        <td style=\"padding-left: 1em; padding-right: 1em; text-align: center; vertical-align: top\">0.514</td>\n",
       "    </tr>\n",
       "    <tr>\n",
       "        <td style=\"padding-left: 1em; padding-right: 1em; text-align: center; vertical-align: top\">1510</td>\n",
       "        <td style=\"padding-left: 1em; padding-right: 1em; text-align: center; vertical-align: top\">1767</td>\n",
       "        <td style=\"padding-left: 1em; padding-right: 1em; text-align: center; vertical-align: top\">30390883.2112</td>\n",
       "        <td style=\"padding-left: 1em; padding-right: 1em; text-align: center; vertical-align: top\">700</td>\n",
       "        <td style=\"padding-left: 1em; padding-right: 1em; text-align: center; vertical-align: top\">0.367</td>\n",
       "    </tr>\n",
       "    <tr>\n",
       "        <td style=\"padding-left: 1em; padding-right: 1em; text-align: center; vertical-align: top\">1397</td>\n",
       "        <td style=\"padding-left: 1em; padding-right: 1em; text-align: center; vertical-align: top\">1632</td>\n",
       "        <td style=\"padding-left: 1em; padding-right: 1em; text-align: center; vertical-align: top\">29588616.9938</td>\n",
       "        <td style=\"padding-left: 1em; padding-right: 1em; text-align: center; vertical-align: top\">700</td>\n",
       "        <td style=\"padding-left: 1em; padding-right: 1em; text-align: center; vertical-align: top\">0.336</td>\n",
       "    </tr>\n",
       "    <tr>\n",
       "        <td style=\"padding-left: 1em; padding-right: 1em; text-align: center; vertical-align: top\">3441</td>\n",
       "        <td style=\"padding-left: 1em; padding-right: 1em; text-align: center; vertical-align: top\">4013</td>\n",
       "        <td style=\"padding-left: 1em; padding-right: 1em; text-align: center; vertical-align: top\">31390268.3333</td>\n",
       "        <td style=\"padding-left: 1em; padding-right: 1em; text-align: center; vertical-align: top\">700</td>\n",
       "        <td style=\"padding-left: 1em; padding-right: 1em; text-align: center; vertical-align: top\">0.817</td>\n",
       "    </tr>\n",
       "    <tr>\n",
       "        <td style=\"padding-left: 1em; padding-right: 1em; text-align: center; vertical-align: top\">3873</td>\n",
       "        <td style=\"padding-left: 1em; padding-right: 1em; text-align: center; vertical-align: top\">4502</td>\n",
       "        <td style=\"padding-left: 1em; padding-right: 1em; text-align: center; vertical-align: top\">30766505.1966</td>\n",
       "        <td style=\"padding-left: 1em; padding-right: 1em; text-align: center; vertical-align: top\">700</td>\n",
       "        <td style=\"padding-left: 1em; padding-right: 1em; text-align: center; vertical-align: top\">0.899</td>\n",
       "    </tr>\n",
       "</table>\n",
       "[62 rows x 14 columns]<br/>Note: Only the head of the SFrame is printed.<br/>You can use print_rows(num_rows=m, num_columns=n) to print more rows and columns.\n",
       "</div>"
      ],
      "text/plain": [
       "Columns:\n",
       "\tDate\tstr\n",
       "\tOrigin\tstr\n",
       "\tDestination\tstr\n",
       "\tCompartment\tstr\n",
       "\tRevenue\tfloat\n",
       "\tAve Price\tfloat\n",
       "\tPax_host\tint\n",
       "\tMarket_Share_host\tfloat\n",
       "\tMarket Share comp\tfloat\n",
       "\tpax_competitor\tint\n",
       "\tMarket Size\tint\n",
       "\tForecast_Revenue_host\tfloat\n",
       "\tCapacity\tint\n",
       "\tAve Seat Factor\tfloat\n",
       "\n",
       "Rows: 62\n",
       "\n",
       "Data:\n",
       "+------------+--------+-------------+-------------+-----------+-----------+----------+\n",
       "|    Date    | Origin | Destination | Compartment |  Revenue  | Ave Price | Pax_host |\n",
       "+------------+--------+-------------+-------------+-----------+-----------+----------+\n",
       "| 01/07/2016 |  ABC   |     XYZ     |      Y      | 50807.079 |   218.1   |   233    |\n",
       "| 02/07/2016 |  ABC   |     XYZ     |      Y      |  68904.07 |   245.2   |   281    |\n",
       "| 03/07/2016 |  ABC   |     XYZ     |      Y      |  67729.81 |   249.9   |   271    |\n",
       "| 04/07/2016 |  ABC   |     XYZ     |      Y      |  78116.12 |   218.8   |   357    |\n",
       "| 05/07/2016 |  ABC   |     XYZ     |      Y      |  98411.26 |   181.2   |   543    |\n",
       "| 06/07/2016 |  ABC   |     XYZ     |      Y      |  68527.47 |   190.4   |   360    |\n",
       "| 07/07/2016 |  ABC   |     XYZ     |      Y      |  55495.09 |   215.9   |   257    |\n",
       "| 08/07/2016 |  ABC   |     XYZ     |      Y      |  40790.14 |   173.6   |   235    |\n",
       "| 09/07/2016 |  ABC   |     XYZ     |      Y      | 111365.37 |   194.7   |   572    |\n",
       "| 10/07/2016 |  ABC   |     XYZ     |      Y      | 125931.77 |   200.2   |   629    |\n",
       "+------------+--------+-------------+-------------+-----------+-----------+----------+\n",
       "+-------------------+-------------------+----------------+-------------+\n",
       "| Market_Share_host | Market Share comp | pax_competitor | Market Size |\n",
       "+-------------------+-------------------+----------------+-------------+\n",
       "|       0.155       |       0.845       |      1270      |     1503    |\n",
       "|       0.1488      |       0.8512      |      1607      |     1888    |\n",
       "|       0.1518      |       0.8482      |      1515      |     1786    |\n",
       "|       0.1472      |       0.8528      |      2068      |     2425    |\n",
       "|       0.1428      |       0.8572      |      3259      |     3802    |\n",
       "|       0.1385      |       0.8615      |      2239      |     2599    |\n",
       "|       0.1454      |       0.8546      |      1510      |     1767    |\n",
       "|       0.144       |       0.856       |      1397      |     1632    |\n",
       "|       0.1426      |       0.8574      |      3441      |     4013    |\n",
       "|       0.1397      |       0.8603      |      3873      |     4502    |\n",
       "+-------------------+-------------------+----------------+-------------+\n",
       "+-----------------------+----------+-----------------+\n",
       "| Forecast_Revenue_host | Capacity | Ave Seat Factor |\n",
       "+-----------------------+----------+-----------------+\n",
       "|     28613784.3105     |   700    |      0.333      |\n",
       "|     29480029.5603     |   700    |      0.401      |\n",
       "|     30463326.9993     |   700    |      0.387      |\n",
       "|     30543187.5017     |   700    |       0.51      |\n",
       "|     30016324.1457     |   700    |      0.776      |\n",
       "|     30574258.3228     |   700    |      0.514      |\n",
       "|     30390883.2112     |   700    |      0.367      |\n",
       "|     29588616.9938     |   700    |      0.336      |\n",
       "|     31390268.3333     |   700    |      0.817      |\n",
       "|     30766505.1966     |   700    |      0.899      |\n",
       "+-----------------------+----------+-----------------+\n",
       "[62 rows x 14 columns]\n",
       "Note: Only the head of the SFrame is printed.\n",
       "You can use print_rows(num_rows=m, num_columns=n) to print more rows and columns."
      ]
     },
     "execution_count": 4,
     "metadata": {},
     "output_type": "execute_result"
    }
   ],
   "source": [
    "sh"
   ]
  },
  {
   "cell_type": "code",
   "execution_count": 5,
   "metadata": {
    "collapsed": false
   },
   "outputs": [
    {
     "data": {
      "text/plain": [
       "<bound method SFrame.num_rows of Columns:\n",
       "\tDate\tstr\n",
       "\tOrigin\tstr\n",
       "\tDestination\tstr\n",
       "\tCompartment\tstr\n",
       "\tRevenue\tfloat\n",
       "\tAve Price\tfloat\n",
       "\tPax_host\tint\n",
       "\tMarket_Share_host\tfloat\n",
       "\tMarket Share comp\tfloat\n",
       "\tpax_competitor\tint\n",
       "\tMarket Size\tint\n",
       "\tForecast_Revenue_host\tfloat\n",
       "\tCapacity\tint\n",
       "\tAve Seat Factor\tfloat\n",
       "\n",
       "Rows: 62\n",
       "\n",
       "Data:\n",
       "+------------+--------+-------------+-------------+-----------+-----------+----------+\n",
       "|    Date    | Origin | Destination | Compartment |  Revenue  | Ave Price | Pax_host |\n",
       "+------------+--------+-------------+-------------+-----------+-----------+----------+\n",
       "| 01/07/2016 |  ABC   |     XYZ     |      Y      | 50807.079 |   218.1   |   233    |\n",
       "| 02/07/2016 |  ABC   |     XYZ     |      Y      |  68904.07 |   245.2   |   281    |\n",
       "| 03/07/2016 |  ABC   |     XYZ     |      Y      |  67729.81 |   249.9   |   271    |\n",
       "| 04/07/2016 |  ABC   |     XYZ     |      Y      |  78116.12 |   218.8   |   357    |\n",
       "| 05/07/2016 |  ABC   |     XYZ     |      Y      |  98411.26 |   181.2   |   543    |\n",
       "| 06/07/2016 |  ABC   |     XYZ     |      Y      |  68527.47 |   190.4   |   360    |\n",
       "| 07/07/2016 |  ABC   |     XYZ     |      Y      |  55495.09 |   215.9   |   257    |\n",
       "| 08/07/2016 |  ABC   |     XYZ     |      Y      |  40790.14 |   173.6   |   235    |\n",
       "| 09/07/2016 |  ABC   |     XYZ     |      Y      | 111365.37 |   194.7   |   572    |\n",
       "| 10/07/2016 |  ABC   |     XYZ     |      Y      | 125931.77 |   200.2   |   629    |\n",
       "+------------+--------+-------------+-------------+-----------+-----------+----------+\n",
       "+-------------------+-------------------+----------------+-------------+\n",
       "| Market_Share_host | Market Share comp | pax_competitor | Market Size |\n",
       "+-------------------+-------------------+----------------+-------------+\n",
       "|       0.155       |       0.845       |      1270      |     1503    |\n",
       "|       0.1488      |       0.8512      |      1607      |     1888    |\n",
       "|       0.1518      |       0.8482      |      1515      |     1786    |\n",
       "|       0.1472      |       0.8528      |      2068      |     2425    |\n",
       "|       0.1428      |       0.8572      |      3259      |     3802    |\n",
       "|       0.1385      |       0.8615      |      2239      |     2599    |\n",
       "|       0.1454      |       0.8546      |      1510      |     1767    |\n",
       "|       0.144       |       0.856       |      1397      |     1632    |\n",
       "|       0.1426      |       0.8574      |      3441      |     4013    |\n",
       "|       0.1397      |       0.8603      |      3873      |     4502    |\n",
       "+-------------------+-------------------+----------------+-------------+\n",
       "+-----------------------+----------+-----------------+\n",
       "| Forecast_Revenue_host | Capacity | Ave Seat Factor |\n",
       "+-----------------------+----------+-----------------+\n",
       "|     28613784.3105     |   700    |      0.333      |\n",
       "|     29480029.5603     |   700    |      0.401      |\n",
       "|     30463326.9993     |   700    |      0.387      |\n",
       "|     30543187.5017     |   700    |       0.51      |\n",
       "|     30016324.1457     |   700    |      0.776      |\n",
       "|     30574258.3228     |   700    |      0.514      |\n",
       "|     30390883.2112     |   700    |      0.367      |\n",
       "|     29588616.9938     |   700    |      0.336      |\n",
       "|     31390268.3333     |   700    |      0.817      |\n",
       "|     30766505.1966     |   700    |      0.899      |\n",
       "+-----------------------+----------+-----------------+\n",
       "[62 rows x 14 columns]\n",
       "Note: Only the head of the SFrame is printed.\n",
       "You can use print_rows(num_rows=m, num_columns=n) to print more rows and columns.>"
      ]
     },
     "execution_count": 5,
     "metadata": {},
     "output_type": "execute_result"
    }
   ],
   "source": [
    "sh.num_rows"
   ]
  },
  {
   "cell_type": "markdown",
   "metadata": {},
   "source": [
    "# Which parameter affects price the most?"
   ]
  },
  {
   "cell_type": "code",
   "execution_count": 18,
   "metadata": {
    "collapsed": false
   },
   "outputs": [],
   "source": [
    "graphlab.canvas.set_target('ipynb')"
   ]
  },
  {
   "cell_type": "code",
   "execution_count": 21,
   "metadata": {
    "collapsed": false
   },
   "outputs": [
    {
     "data": {
      "application/javascript": [
       "$(\"head\").append($(\"<link/>\").attr({\n",
       "  rel:  \"stylesheet\",\n",
       "  type: \"text/css\",\n",
       "  href: \"//cdnjs.cloudflare.com/ajax/libs/font-awesome/4.1.0/css/font-awesome.min.css\"\n",
       "}));\n",
       "$(\"head\").append($(\"<link/>\").attr({\n",
       "  rel:  \"stylesheet\",\n",
       "  type: \"text/css\",\n",
       "  href: \"//dato.com/files/canvas/1.8.5/css/canvas.css\"\n",
       "}));\n",
       "\n",
       "            (function(){\n",
       "\n",
       "                var e = null;\n",
       "                if (typeof element == 'undefined') {\n",
       "                    var scripts = document.getElementsByTagName('script');\n",
       "                    var thisScriptTag = scripts[scripts.length-1];\n",
       "                    var parentDiv = thisScriptTag.parentNode;\n",
       "                    e = document.createElement('div');\n",
       "                    parentDiv.appendChild(e);\n",
       "                } else {\n",
       "                    e = element[0];\n",
       "                }\n",
       "\n",
       "                if (typeof requirejs !== 'undefined') {\n",
       "                    // disable load timeout; ipython_app.js is large and can take a while to load.\n",
       "                    requirejs.config({waitSeconds: 0});\n",
       "                }\n",
       "\n",
       "                require(['//dato.com/files/canvas/1.8.5/js/ipython_app.js'], function(IPythonApp){\n",
       "                    var app = new IPythonApp();\n",
       "                    app.attachView('sframe','Plots', {\"selected_variable\": {\"name\": [\"sh\"], \"descriptives\": {\"rows\": 62, \"columns\": 14}, \"view_component\": \"Plots\", \"view_file\": \"sframe\", \"view_params\": {\"y\": \"Ave Price\", \"x\": \"Pax_host\", \"columns\": [\"Date\", \"Origin\", \"Destination\", \"Compartment\", \"Revenue\", \"Ave Price\", \"Pax_host\", \"Market_Share_host\", \"Market Share comp\", \"pax_competitor\", \"Market Size\", \"Forecast_Revenue_host\", \"Capacity\", \"Ave Seat Factor\"], \"view\": \"Scatter Plot\"}, \"view_components\": [\"Summary\", \"Table\", \"Bar Chart\", \"BoxWhisker Plot\", \"Line Chart\", \"Scatter Plot\", \"Heat Map\", \"Plots\"], \"type\": \"SFrame\", \"columns\": [{\"dtype\": \"str\", \"name\": \"Date\"}, {\"dtype\": \"str\", \"name\": \"Origin\"}, {\"dtype\": \"str\", \"name\": \"Destination\"}, {\"dtype\": \"str\", \"name\": \"Compartment\"}, {\"dtype\": \"float\", \"name\": \"Revenue\"}, {\"dtype\": \"float\", \"name\": \"Ave Price\"}, {\"dtype\": \"int\", \"name\": \"Pax_host\"}, {\"dtype\": \"float\", \"name\": \"Market_Share_host\"}, {\"dtype\": \"float\", \"name\": \"Market Share comp\"}, {\"dtype\": \"int\", \"name\": \"pax_competitor\"}, {\"dtype\": \"int\", \"name\": \"Market Size\"}, {\"dtype\": \"float\", \"name\": \"Forecast_Revenue_host\"}, {\"dtype\": \"int\", \"name\": \"Capacity\"}, {\"dtype\": \"float\", \"name\": \"Ave Seat Factor\"}], \"column_identifiers\": [\"Origin\", \"Destination\", \"Capacity\", \"Ave Seat Factor\", \"Revenue\", \"Market Size\", \"Market Share comp\", \"Ave Price\", \"Pax_host\", \"Date\", \"Market_Share_host\", \"pax_competitor\", \"Compartment\", \"Forecast_Revenue_host\"]}, \"complete\": 1, \"ipython\": true, \"progress\": 1.0, \"data\": [[233, 218.1], [281, 245.2], [271, 249.9], [357, 218.8], [543, 181.2], [360, 190.4], [257, 215.9], [235, 173.6], [572, 194.7], [629, 200.2], [441, 223.9], [301, 218.9], [368, 163.7], [432, 195.7], [321, 178.3], [368, 202.0], [429, 163.6], [457, 192.7], [366, 218.3], [395, 183.6], [375, 202.5], [306, 169.7], [519, 200.0], [485, 192.8], [466, 208.7], [299, 192.4], [368, 202.3], [413, 212.2], [288, 168.0], [623, 550.9], [435, 204.6], [3, 539.0], [8, 459.5], [3, 881.6], [6, 424.0], [3, 481.1], [12, 639.3], [7, 601.9], [11, 629.5], [41, 409.8], [32, 693.8], [36, 351.2], [13, 563.8], [26, 597.0], [29, 394.4], [16, 512.3], [37, 396.9], [8, 440.0], [15, 401.3], [11, 625.9], [40, 257.9], [17, 413.1], [6, 673.8], [39, 743.4], [20, 464.2], [12, 334.8], [10, 599.5], [23, 721.8], [31, 354.5], [6, 399.2], [18, 468.2], [18, 308.2]], \"columns\": [{\"dtype\": \"str\", \"name\": \"Date\"}, {\"dtype\": \"str\", \"name\": \"Origin\"}, {\"dtype\": \"str\", \"name\": \"Destination\"}, {\"dtype\": \"str\", \"name\": \"Compartment\"}, {\"dtype\": \"float\", \"name\": \"Revenue\"}, {\"dtype\": \"float\", \"name\": \"Ave Price\"}, {\"dtype\": \"int\", \"name\": \"Pax_host\"}, {\"dtype\": \"float\", \"name\": \"Market_Share_host\"}, {\"dtype\": \"float\", \"name\": \"Market Share comp\"}, {\"dtype\": \"int\", \"name\": \"pax_competitor\"}, {\"dtype\": \"int\", \"name\": \"Market Size\"}, {\"dtype\": \"float\", \"name\": \"Forecast_Revenue_host\"}, {\"dtype\": \"int\", \"name\": \"Capacity\"}, {\"dtype\": \"float\", \"name\": \"Ave Seat Factor\"}]}, e);\n",
       "                });\n",
       "            })();\n",
       "        "
      ]
     },
     "metadata": {},
     "output_type": "display_data"
    }
   ],
   "source": [
    "sh.show(view=\"Scatter Plot\", x='Pax_host', y='Ave Price')"
   ]
  },
  {
   "cell_type": "code",
   "execution_count": 22,
   "metadata": {
    "collapsed": true
   },
   "outputs": [],
   "source": [
    "regression_model = graphlab.linear_regression.create(sh, target='Ave Price', features=['Pax_host'],validation_set=None,verbose=False)"
   ]
  },
  {
   "cell_type": "code",
   "execution_count": 23,
   "metadata": {
    "collapsed": true
   },
   "outputs": [],
   "source": [
    "import matplotlib.pyplot as plt\n",
    "%matplotlib inline"
   ]
  },
  {
   "cell_type": "code",
   "execution_count": 24,
   "metadata": {
    "collapsed": false
   },
   "outputs": [
    {
     "data": {
      "text/plain": [
       "[<matplotlib.lines.Line2D at 0x7fb4f8372d10>,\n",
       " <matplotlib.lines.Line2D at 0x7fb4f8372e10>]"
      ]
     },
     "execution_count": 24,
     "metadata": {},
     "output_type": "execute_result"
    },
    {
     "data": {
      "image/png": "[encoded data removed]",
      "text/plain": [
       "<matplotlib.figure.Figure at 0x7fb4f84c8150>"
      ]
     },
     "metadata": {},
     "output_type": "display_data"
    }
   ],
   "source": [
    "plt.plot(sh['Pax_host'],sh['Ave Price'],'.',\n",
    "        sh['Pax_host'],regression_model.predict(sh),'-')"
   ]
  },
  {
   "cell_type": "code",
   "execution_count": 25,
   "metadata": {
    "collapsed": true
   },
   "outputs": [],
   "source": [
    "regression_model_2 = graphlab.linear_regression.create(sh, target='Ave Price', features=['Market Size'],validation_set=None,verbose=False)"
   ]
  },
  {
   "cell_type": "code",
   "execution_count": 26,
   "metadata": {
    "collapsed": false
   },
   "outputs": [
    {
     "data": {
      "text/plain": [
       "[<matplotlib.lines.Line2D at 0x7fb4f82c9310>,\n",
       " <matplotlib.lines.Line2D at 0x7fb4f82c9410>]"
      ]
     },
     "execution_count": 26,
     "metadata": {},
     "output_type": "execute_result"
    },
    {
     "data": {
      "image/png": "[encoded data removed]",
      "text/plain": [
       "<matplotlib.figure.Figure at 0x7fb4f85c80d0>"
      ]
     },
     "metadata": {},
     "output_type": "display_data"
    }
   ],
   "source": [
    "plt.plot(sh['Market Size'],sh['Ave Price'],'.',\n",
    "        sh['Market Size'],regression_model_2.predict(sh),'-')"
   ]
  },
  {
   "cell_type": "code",
   "execution_count": 28,
   "metadata": {
    "collapsed": true
   },
   "outputs": [],
   "source": [
    "regression_model_final = graphlab.linear_regression.create(sh, target='Ave Price', features=['Market Size','Pax_host','pax_competitor','Ave Seat Factor'],validation_set=None,verbose=False)"
   ]
  },
  {
   "cell_type": "code",
   "execution_count": 29,
   "metadata": {
    "collapsed": false
   },
   "outputs": [
    {
     "data": {
      "text/html": [
       "<div style=\"max-height:1000px;max-width:1500px;overflow:auto;\"><table frame=\"box\" rules=\"cols\">\n",
       "    <tr>\n",
       "        <th style=\"padding-left: 1em; padding-right: 1em; text-align: center\">name</th>\n",
       "        <th style=\"padding-left: 1em; padding-right: 1em; text-align: center\">index</th>\n",
       "        <th style=\"padding-left: 1em; padding-right: 1em; text-align: center\">value</th>\n",
       "        <th style=\"padding-left: 1em; padding-right: 1em; text-align: center\">stderr</th>\n",
       "    </tr>\n",
       "    <tr>\n",
       "        <td style=\"padding-left: 1em; padding-right: 1em; text-align: center; vertical-align: top\">(intercept)</td>\n",
       "        <td style=\"padding-left: 1em; padding-right: 1em; text-align: center; vertical-align: top\">None</td>\n",
       "        <td style=\"padding-left: 1em; padding-right: 1em; text-align: center; vertical-align: top\">488.024124454</td>\n",
       "        <td style=\"padding-left: 1em; padding-right: 1em; text-align: center; vertical-align: top\">39.6620804881</td>\n",
       "    </tr>\n",
       "    <tr>\n",
       "        <td style=\"padding-left: 1em; padding-right: 1em; text-align: center; vertical-align: top\">Market Size</td>\n",
       "        <td style=\"padding-left: 1em; padding-right: 1em; text-align: center; vertical-align: top\">None</td>\n",
       "        <td style=\"padding-left: 1em; padding-right: 1em; text-align: center; vertical-align: top\">0.0107477962634</td>\n",
       "        <td style=\"padding-left: 1em; padding-right: 1em; text-align: center; vertical-align: top\">381219.50419</td>\n",
       "    </tr>\n",
       "    <tr>\n",
       "        <td style=\"padding-left: 1em; padding-right: 1em; text-align: center; vertical-align: top\">Pax_host</td>\n",
       "        <td style=\"padding-left: 1em; padding-right: 1em; text-align: center; vertical-align: top\">None</td>\n",
       "        <td style=\"padding-left: 1em; padding-right: 1em; text-align: center; vertical-align: top\">-1.02743134905</td>\n",
       "        <td style=\"padding-left: 1em; padding-right: 1em; text-align: center; vertical-align: top\">381219.504191</td>\n",
       "    </tr>\n",
       "    <tr>\n",
       "        <td style=\"padding-left: 1em; padding-right: 1em; text-align: center; vertical-align: top\">pax_competitor</td>\n",
       "        <td style=\"padding-left: 1em; padding-right: 1em; text-align: center; vertical-align: top\">None</td>\n",
       "        <td style=\"padding-left: 1em; padding-right: 1em; text-align: center; vertical-align: top\">0.036078282116</td>\n",
       "        <td style=\"padding-left: 1em; padding-right: 1em; text-align: center; vertical-align: top\">381219.50419</td>\n",
       "    </tr>\n",
       "    <tr>\n",
       "        <td style=\"padding-left: 1em; padding-right: 1em; text-align: center; vertical-align: top\">Ave Seat Factor</td>\n",
       "        <td style=\"padding-left: 1em; padding-right: 1em; text-align: center; vertical-align: top\">None</td>\n",
       "        <td style=\"padding-left: 1em; padding-right: 1em; text-align: center; vertical-align: top\">38.0248059354</td>\n",
       "        <td style=\"padding-left: 1em; padding-right: 1em; text-align: center; vertical-align: top\">100.08287261</td>\n",
       "    </tr>\n",
       "</table>\n",
       "[5 rows x 4 columns]<br/>\n",
       "</div>"
      ],
      "text/plain": [
       "Columns:\n",
       "\tname\tstr\n",
       "\tindex\tstr\n",
       "\tvalue\tfloat\n",
       "\tstderr\tfloat\n",
       "\n",
       "Rows: 5\n",
       "\n",
       "Data:\n",
       "+-----------------+-------+-----------------+---------------+\n",
       "|       name      | index |      value      |     stderr    |\n",
       "+-----------------+-------+-----------------+---------------+\n",
       "|   (intercept)   |  None |  488.024124454  | 39.6620804881 |\n",
       "|   Market Size   |  None | 0.0107477962634 |  381219.50419 |\n",
       "|     Pax_host    |  None |  -1.02743134905 | 381219.504191 |\n",
       "|  pax_competitor |  None |  0.036078282116 |  381219.50419 |\n",
       "| Ave Seat Factor |  None |  38.0248059354  |  100.08287261 |\n",
       "+-----------------+-------+-----------------+---------------+\n",
       "[5 rows x 4 columns]"
      ]
     },
     "execution_count": 29,
     "metadata": {},
     "output_type": "execute_result"
    }
   ],
   "source": [
    "regression_model_final.get('coefficients')"
   ]
  },
  {
   "cell_type": "markdown",
   "metadata": {},
   "source": [
    "# Ave Seat Factor seems to affect the price most"
   ]
  }
 ],
 "metadata": {
  "kernelspec": {
   "display_name": "Python 2",
   "language": "python",
   "name": "python2"
  },
  "language_info": {
   "codemirror_mode": {
    "name": "ipython",
    "version": 2
   },
   "file_extension": ".py",
   "mimetype": "text/x-python",
   "name": "python",
   "nbconvert_exporter": "python",
   "pygments_lexer": "ipython2",
   "version": "2.7.10"
  }
 },
 "nbformat": 4,
 "nbformat_minor": 0
}
