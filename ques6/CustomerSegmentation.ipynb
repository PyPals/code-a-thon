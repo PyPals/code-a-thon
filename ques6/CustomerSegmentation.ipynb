{
 "cells": [
  {
   "cell_type": "code",
   "execution_count": 1,
   "metadata": {
    "collapsed": false
   },
   "outputs": [
    {
     "name": "stderr",
     "output_type": "stream",
     "text": [
      "A newer version of GraphLab Create (v2.1) is available! Your current version is v1.8.5.\n",
      "\n",
      "You can use pip to upgrade the graphlab-create package. For more information see https://dato.com/products/create/upgrade.\n",
      "2016-10-28 22:45:22,763 [INFO] graphlab.cython.cy_server, 176: GraphLab Create v1.8.5 started. Logging: /tmp/graphlab_server_1477674918.log\n"
     ]
    },
    {
     "name": "stdout",
     "output_type": "stream",
     "text": [
      "This non-commercial license of GraphLab Create for academic use is assigned to purak.jain@learner.manipal.edu and will expire on November 11, 2016.\n"
     ]
    }
   ],
   "source": [
    "import graphlab\n",
    "import matplotlib.pyplot as plt\n",
    "import numpy as np\n",
    "%matplotlib inline"
   ]
  },
  {
   "cell_type": "code",
   "execution_count": 3,
   "metadata": {
    "collapsed": false
   },
   "outputs": [
    {
     "data": {
      "text/html": [
       "<pre>Finished parsing file /home/prk/Desktop/Desk/MachineLearning/Coursera/flynava/Question 6 data.csv</pre>"
      ],
      "text/plain": [
       "Finished parsing file /home/prk/Desktop/Desk/MachineLearning/Coursera/flynava/Question 6 data.csv"
      ]
     },
     "metadata": {},
     "output_type": "display_data"
    },
    {
     "data": {
      "text/html": [
       "<pre>Parsing completed. Parsed 100 lines in 0.688371 secs.</pre>"
      ],
      "text/plain": [
       "Parsing completed. Parsed 100 lines in 0.688371 secs."
      ]
     },
     "metadata": {},
     "output_type": "display_data"
    },
    {
     "data": {
      "text/html": [
       "<pre>Finished parsing file /home/prk/Desktop/Desk/MachineLearning/Coursera/flynava/Question 6 data.csv</pre>"
      ],
      "text/plain": [
       "Finished parsing file /home/prk/Desktop/Desk/MachineLearning/Coursera/flynava/Question 6 data.csv"
      ]
     },
     "metadata": {},
     "output_type": "display_data"
    },
    {
     "data": {
      "text/html": [
       "<pre>Parsing completed. Parsed 111717 lines in 0.317589 secs.</pre>"
      ],
      "text/plain": [
       "Parsing completed. Parsed 111717 lines in 0.317589 secs."
      ]
     },
     "metadata": {},
     "output_type": "display_data"
    },
    {
     "name": "stdout",
     "output_type": "stream",
     "text": [
      "------------------------------------------------------\n",
      "Inferred types from first line of file as \n",
      "column_type_hints=[str,str,str,str,str,str,str,str,float,str,int]\n",
      "If parsing fails due to incorrect types, you can correct\n",
      "the inferred type list above and pass it to read_csv in\n",
      "the column_type_hints argument\n",
      "------------------------------------------------------\n"
     ]
    }
   ],
   "source": [
    "wiki = graphlab.SFrame(data = 'Question 6 data.csv')"
   ]
  },
  {
   "cell_type": "code",
   "execution_count": 6,
   "metadata": {
    "collapsed": false
   },
   "outputs": [
    {
     "data": {
      "text/plain": [
       "<bound method SFrame.num_rows of Columns:\n",
       "\tPNR Booked date\tstr\n",
       "\tOD booked date\tstr\n",
       "\tPax Type\tstr\n",
       "\tOrigin\tstr\n",
       "\tDestination\tstr\n",
       "\tDeparture Date\tstr\n",
       "\tRes Currency\tstr\n",
       "\tBooking Channel\tstr\n",
       "\tTotal Price (AED)\tfloat\n",
       "\tPOS (Processed Field)\tstr\n",
       "\tAge\tint\n",
       "\n",
       "Rows: 111717\n",
       "\n",
       "Data:\n",
       "+-----------------+----------------+----------+--------+-------------+----------------+\n",
       "| PNR Booked date | OD booked date | Pax Type | Origin | Destination | Departure Date |\n",
       "+-----------------+----------------+----------+--------+-------------+----------------+\n",
       "|     03/06/15    |    11/02/15    |   ADT    |  DXB   |     JED     |    11/09/15    |\n",
       "|     03/06/15    |    11/02/15    |   ADT    |  BND   |     DXB     |    11/08/15    |\n",
       "|     03/06/15    |    11/02/15    |   ADT    |  DXB   |     KTM     |    03/05/16    |\n",
       "|     03/06/15    |    11/02/15    |   ADT    |  OTP   |     DXB     |    11/23/15    |\n",
       "|     03/06/15    |    11/02/15    |   ADT    |  AJF   |     DXB     |    11/03/15    |\n",
       "|     03/06/15    |    11/02/15    |   ADT    |  DOH   |     DXB     |    11/04/15    |\n",
       "|     03/06/15    |    11/02/15    |   ADT    |  JED   |     DXB     |    11/05/15    |\n",
       "|     03/06/15    |    11/02/15    |   ADT    |  DXB   |     BND     |    11/13/15    |\n",
       "|     03/06/15    |    11/02/15    |   ADT    |  ODS   |     DXB     |    11/03/15    |\n",
       "|     03/06/15    |    11/02/15    |   ADT    |  DXB   |     JED     |    11/09/15    |\n",
       "+-----------------+----------------+----------+--------+-------------+----------------+\n",
       "+--------------+-----------------+-------------------+-----------------------+\n",
       "| Res Currency | Booking Channel | Total Price (AED) | POS (Processed Field) |\n",
       "+--------------+-----------------+-------------------+-----------------------+\n",
       "|     SAR      |       WEB       |       257.58      |          JED          |\n",
       "|     USD      |        TA       |       253.44      |          BND          |\n",
       "|     AED      |    INTERLINE    |       300.0       |          MISC         |\n",
       "|     EUR      |       GDS       |       186.57      |          OTP          |\n",
       "|     SAR      |        TA       |       170.42      |          AJF          |\n",
       "|     AED      |       GDS       |        0.0        |          DXB          |\n",
       "|     SAR      |       WEB       |       623.15      |          JED          |\n",
       "|     USD      |        TA       |       297.52      |          BND          |\n",
       "|     USD      |       GDS       |       301.19      |          DXB          |\n",
       "|     SAR      |       WEB       |       257.58      |          JED          |\n",
       "+--------------+-----------------+-------------------+-----------------------+\n",
       "+-----+\n",
       "| Age |\n",
       "+-----+\n",
       "|  66 |\n",
       "|  27 |\n",
       "|  67 |\n",
       "|  50 |\n",
       "|  49 |\n",
       "|  61 |\n",
       "|  21 |\n",
       "|  63 |\n",
       "|  65 |\n",
       "|  27 |\n",
       "+-----+\n",
       "[111717 rows x 11 columns]\n",
       "Note: Only the head of the SFrame is printed.\n",
       "You can use print_rows(num_rows=m, num_columns=n) to print more rows and columns.>"
      ]
     },
     "execution_count": 6,
     "metadata": {},
     "output_type": "execute_result"
    }
   ],
   "source": [
    "wiki.num_rows"
   ]
  },
  {
   "cell_type": "code",
   "execution_count": 27,
   "metadata": {
    "collapsed": false
   },
   "outputs": [],
   "source": [
    "import datetime as dt\n",
    "wiki['Date of Departure'] = wiki['Departure Date'].apply(lambda x: dt.datetime.strptime(x, '%m/%d/%y'))\n",
    "wiki['Date of Booking'] = wiki['OD booked date'].apply(lambda x: dt.datetime.strptime(x, '%m/%d/%y'))"
   ]
  },
  {
   "cell_type": "code",
   "execution_count": 32,
   "metadata": {
    "collapsed": false
   },
   "outputs": [
    {
     "ename": "KeyboardInterrupt",
     "evalue": "",
     "output_type": "error",
     "traceback": [
      "\u001b[1;31m---------------------------------------------------------------------------\u001b[0m",
      "\u001b[1;31mKeyboardInterrupt\u001b[0m                         Traceback (most recent call last)",
      "\u001b[1;32m<ipython-input-32-92402264b722>\u001b[0m in \u001b[0;36m<module>\u001b[1;34m()\u001b[0m\n\u001b[0;32m      1\u001b[0m \u001b[0ma\u001b[0m \u001b[1;33m=\u001b[0m \u001b[1;33m[\u001b[0m\u001b[1;36m0\u001b[0m\u001b[1;33m]\u001b[0m\u001b[1;33m*\u001b[0m\u001b[0mlen\u001b[0m\u001b[1;33m(\u001b[0m\u001b[0mwiki\u001b[0m\u001b[1;33m)\u001b[0m\u001b[1;33m\u001b[0m\u001b[0m\n\u001b[0;32m      2\u001b[0m \u001b[1;32mfor\u001b[0m \u001b[0mi\u001b[0m \u001b[1;32min\u001b[0m \u001b[0mxrange\u001b[0m\u001b[1;33m(\u001b[0m\u001b[1;36m0\u001b[0m\u001b[1;33m,\u001b[0m\u001b[0mlen\u001b[0m\u001b[1;33m(\u001b[0m\u001b[0mwiki\u001b[0m\u001b[1;33m)\u001b[0m\u001b[1;33m)\u001b[0m\u001b[1;33m:\u001b[0m\u001b[1;33m\u001b[0m\u001b[0m\n\u001b[1;32m----> 3\u001b[1;33m     \u001b[0ma\u001b[0m\u001b[1;33m[\u001b[0m\u001b[0mi\u001b[0m\u001b[1;33m]\u001b[0m \u001b[1;33m=\u001b[0m \u001b[1;33m(\u001b[0m\u001b[0mwiki\u001b[0m\u001b[1;33m[\u001b[0m\u001b[1;34m'Date of Departure'\u001b[0m\u001b[1;33m]\u001b[0m\u001b[1;33m[\u001b[0m\u001b[0mi\u001b[0m\u001b[1;33m]\u001b[0m\u001b[1;33m-\u001b[0m\u001b[0mwiki\u001b[0m\u001b[1;33m[\u001b[0m\u001b[1;34m'Date of Booking'\u001b[0m\u001b[1;33m]\u001b[0m\u001b[1;33m[\u001b[0m\u001b[0mi\u001b[0m\u001b[1;33m]\u001b[0m\u001b[1;33m)\u001b[0m\u001b[1;33m.\u001b[0m\u001b[0mdays\u001b[0m\u001b[1;33m\u001b[0m\u001b[0m\n\u001b[0m",
      "\u001b[1;32m/home/prk/anaconda2/envs/dato-env/lib/python2.7/site-packages/graphlab/data_structures/sarray.pyc\u001b[0m in \u001b[0;36m__getitem__\u001b[1;34m(self, other)\u001b[0m\n\u001b[0;32m   1055\u001b[0m             \u001b[0mub\u001b[0m \u001b[1;33m=\u001b[0m \u001b[0mmin\u001b[0m\u001b[1;33m(\u001b[0m\u001b[0msa_len\u001b[0m\u001b[1;33m,\u001b[0m \u001b[0mlb\u001b[0m \u001b[1;33m+\u001b[0m \u001b[0mblock_size\u001b[0m\u001b[1;33m)\u001b[0m\u001b[1;33m\u001b[0m\u001b[0m\n\u001b[0;32m   1056\u001b[0m \u001b[1;33m\u001b[0m\u001b[0m\n\u001b[1;32m-> 1057\u001b[1;33m             \u001b[0mval_list\u001b[0m \u001b[1;33m=\u001b[0m \u001b[0mlist\u001b[0m\u001b[1;33m(\u001b[0m\u001b[0mSArray\u001b[0m\u001b[1;33m(\u001b[0m\u001b[0m_proxy\u001b[0m \u001b[1;33m=\u001b[0m \u001b[0mself\u001b[0m\u001b[1;33m.\u001b[0m\u001b[0m__proxy__\u001b[0m\u001b[1;33m.\u001b[0m\u001b[0mcopy_range\u001b[0m\u001b[1;33m(\u001b[0m\u001b[0mlb\u001b[0m\u001b[1;33m,\u001b[0m \u001b[1;36m1\u001b[0m\u001b[1;33m,\u001b[0m \u001b[0mub\u001b[0m\u001b[1;33m)\u001b[0m\u001b[1;33m)\u001b[0m\u001b[1;33m)\u001b[0m\u001b[1;33m\u001b[0m\u001b[0m\n\u001b[0m\u001b[0;32m   1058\u001b[0m             \u001b[0mself\u001b[0m\u001b[1;33m.\u001b[0m\u001b[0m_getitem_cache\u001b[0m \u001b[1;33m=\u001b[0m \u001b[1;33m(\u001b[0m\u001b[0mlb\u001b[0m\u001b[1;33m,\u001b[0m \u001b[0mub\u001b[0m\u001b[1;33m,\u001b[0m \u001b[0mval_list\u001b[0m\u001b[1;33m)\u001b[0m\u001b[1;33m\u001b[0m\u001b[0m\n\u001b[0;32m   1059\u001b[0m             \u001b[1;32mreturn\u001b[0m \u001b[0mval_list\u001b[0m\u001b[1;33m[\u001b[0m\u001b[0mother\u001b[0m \u001b[1;33m-\u001b[0m \u001b[0mlb\u001b[0m\u001b[1;33m]\u001b[0m\u001b[1;33m\u001b[0m\u001b[0m\n",
      "\u001b[1;32m/home/prk/anaconda2/envs/dato-env/lib/python2.7/site-packages/graphlab/data_structures/sarray.pyc\u001b[0m in \u001b[0;36mgenerator\u001b[1;34m()\u001b[0m\n\u001b[0;32m    675\u001b[0m             \u001b[1;32mwhile\u001b[0m\u001b[1;33m(\u001b[0m\u001b[0mTrue\u001b[0m\u001b[1;33m)\u001b[0m\u001b[1;33m:\u001b[0m\u001b[1;33m\u001b[0m\u001b[0m\n\u001b[0;32m    676\u001b[0m                 \u001b[1;32mfor\u001b[0m \u001b[0mj\u001b[0m \u001b[1;32min\u001b[0m \u001b[0mret\u001b[0m\u001b[1;33m:\u001b[0m\u001b[1;33m\u001b[0m\u001b[0m\n\u001b[1;32m--> 677\u001b[1;33m                     \u001b[1;32myield\u001b[0m \u001b[0mj\u001b[0m\u001b[1;33m\u001b[0m\u001b[0m\n\u001b[0m\u001b[0;32m    678\u001b[0m \u001b[1;33m\u001b[0m\u001b[0m\n\u001b[0;32m    679\u001b[0m                 \u001b[1;32mif\u001b[0m \u001b[0mlen\u001b[0m\u001b[1;33m(\u001b[0m\u001b[0mret\u001b[0m\u001b[1;33m)\u001b[0m \u001b[1;33m==\u001b[0m \u001b[0melems_at_a_time\u001b[0m\u001b[1;33m:\u001b[0m\u001b[1;33m\u001b[0m\u001b[0m\n",
      "\u001b[1;31mKeyboardInterrupt\u001b[0m: "
     ]
    }
   ],
   "source": [
    "a = [0]*len(wiki)\n",
    "for i in xrange(0,len(wiki)):\n",
    "    a[i] = (wiki['Date of Departure'][i]-wiki['Date of Booking'][i]).days"
   ]
  },
  {
   "cell_type": "code",
   "execution_count": 101,
   "metadata": {
    "collapsed": false
   },
   "outputs": [],
   "source": [
    "b = wiki['Date of Departure'].to_numpy()\n",
    "c = wiki['Date of Booking'].to_numpy()\n",
    "d  = b-c\n",
    "helper = np.vectorize(lambda x: x.total_seconds())\n",
    "dt_days = helper(d)"
   ]
  },
  {
   "cell_type": "code",
   "execution_count": 102,
   "metadata": {
    "collapsed": false
   },
   "outputs": [],
   "source": [
    "dt_days = graphlab.SArray(dt_days)"
   ]
  },
  {
   "cell_type": "code",
   "execution_count": 103,
   "metadata": {
    "collapsed": false
   },
   "outputs": [
    {
     "data": {
      "text/html": [
       "<div style=\"max-height:1000px;max-width:1500px;overflow:auto;\"><table frame=\"box\" rules=\"cols\">\n",
       "    <tr>\n",
       "        <th style=\"padding-left: 1em; padding-right: 1em; text-align: center\">PNR Booked date</th>\n",
       "        <th style=\"padding-left: 1em; padding-right: 1em; text-align: center\">OD booked date</th>\n",
       "        <th style=\"padding-left: 1em; padding-right: 1em; text-align: center\">Pax Type</th>\n",
       "        <th style=\"padding-left: 1em; padding-right: 1em; text-align: center\">Origin</th>\n",
       "        <th style=\"padding-left: 1em; padding-right: 1em; text-align: center\">Destination</th>\n",
       "        <th style=\"padding-left: 1em; padding-right: 1em; text-align: center\">Departure Date</th>\n",
       "        <th style=\"padding-left: 1em; padding-right: 1em; text-align: center\">Res Currency</th>\n",
       "        <th style=\"padding-left: 1em; padding-right: 1em; text-align: center\">Booking Channel</th>\n",
       "    </tr>\n",
       "    <tr>\n",
       "        <td style=\"padding-left: 1em; padding-right: 1em; text-align: center; vertical-align: top\">03/06/15</td>\n",
       "        <td style=\"padding-left: 1em; padding-right: 1em; text-align: center; vertical-align: top\">11/02/15</td>\n",
       "        <td style=\"padding-left: 1em; padding-right: 1em; text-align: center; vertical-align: top\">ADT</td>\n",
       "        <td style=\"padding-left: 1em; padding-right: 1em; text-align: center; vertical-align: top\">DXB</td>\n",
       "        <td style=\"padding-left: 1em; padding-right: 1em; text-align: center; vertical-align: top\">JED</td>\n",
       "        <td style=\"padding-left: 1em; padding-right: 1em; text-align: center; vertical-align: top\">11/09/15</td>\n",
       "        <td style=\"padding-left: 1em; padding-right: 1em; text-align: center; vertical-align: top\">SAR</td>\n",
       "        <td style=\"padding-left: 1em; padding-right: 1em; text-align: center; vertical-align: top\">WEB</td>\n",
       "    </tr>\n",
       "    <tr>\n",
       "        <td style=\"padding-left: 1em; padding-right: 1em; text-align: center; vertical-align: top\">03/06/15</td>\n",
       "        <td style=\"padding-left: 1em; padding-right: 1em; text-align: center; vertical-align: top\">11/02/15</td>\n",
       "        <td style=\"padding-left: 1em; padding-right: 1em; text-align: center; vertical-align: top\">ADT</td>\n",
       "        <td style=\"padding-left: 1em; padding-right: 1em; text-align: center; vertical-align: top\">BND</td>\n",
       "        <td style=\"padding-left: 1em; padding-right: 1em; text-align: center; vertical-align: top\">DXB</td>\n",
       "        <td style=\"padding-left: 1em; padding-right: 1em; text-align: center; vertical-align: top\">11/08/15</td>\n",
       "        <td style=\"padding-left: 1em; padding-right: 1em; text-align: center; vertical-align: top\">USD</td>\n",
       "        <td style=\"padding-left: 1em; padding-right: 1em; text-align: center; vertical-align: top\">TA</td>\n",
       "    </tr>\n",
       "    <tr>\n",
       "        <td style=\"padding-left: 1em; padding-right: 1em; text-align: center; vertical-align: top\">03/06/15</td>\n",
       "        <td style=\"padding-left: 1em; padding-right: 1em; text-align: center; vertical-align: top\">11/02/15</td>\n",
       "        <td style=\"padding-left: 1em; padding-right: 1em; text-align: center; vertical-align: top\">ADT</td>\n",
       "        <td style=\"padding-left: 1em; padding-right: 1em; text-align: center; vertical-align: top\">DXB</td>\n",
       "        <td style=\"padding-left: 1em; padding-right: 1em; text-align: center; vertical-align: top\">KTM</td>\n",
       "        <td style=\"padding-left: 1em; padding-right: 1em; text-align: center; vertical-align: top\">03/05/16</td>\n",
       "        <td style=\"padding-left: 1em; padding-right: 1em; text-align: center; vertical-align: top\">AED</td>\n",
       "        <td style=\"padding-left: 1em; padding-right: 1em; text-align: center; vertical-align: top\">INTERLINE</td>\n",
       "    </tr>\n",
       "    <tr>\n",
       "        <td style=\"padding-left: 1em; padding-right: 1em; text-align: center; vertical-align: top\">03/06/15</td>\n",
       "        <td style=\"padding-left: 1em; padding-right: 1em; text-align: center; vertical-align: top\">11/02/15</td>\n",
       "        <td style=\"padding-left: 1em; padding-right: 1em; text-align: center; vertical-align: top\">ADT</td>\n",
       "        <td style=\"padding-left: 1em; padding-right: 1em; text-align: center; vertical-align: top\">OTP</td>\n",
       "        <td style=\"padding-left: 1em; padding-right: 1em; text-align: center; vertical-align: top\">DXB</td>\n",
       "        <td style=\"padding-left: 1em; padding-right: 1em; text-align: center; vertical-align: top\">11/23/15</td>\n",
       "        <td style=\"padding-left: 1em; padding-right: 1em; text-align: center; vertical-align: top\">EUR</td>\n",
       "        <td style=\"padding-left: 1em; padding-right: 1em; text-align: center; vertical-align: top\">GDS</td>\n",
       "    </tr>\n",
       "    <tr>\n",
       "        <td style=\"padding-left: 1em; padding-right: 1em; text-align: center; vertical-align: top\">03/06/15</td>\n",
       "        <td style=\"padding-left: 1em; padding-right: 1em; text-align: center; vertical-align: top\">11/02/15</td>\n",
       "        <td style=\"padding-left: 1em; padding-right: 1em; text-align: center; vertical-align: top\">ADT</td>\n",
       "        <td style=\"padding-left: 1em; padding-right: 1em; text-align: center; vertical-align: top\">AJF</td>\n",
       "        <td style=\"padding-left: 1em; padding-right: 1em; text-align: center; vertical-align: top\">DXB</td>\n",
       "        <td style=\"padding-left: 1em; padding-right: 1em; text-align: center; vertical-align: top\">11/03/15</td>\n",
       "        <td style=\"padding-left: 1em; padding-right: 1em; text-align: center; vertical-align: top\">SAR</td>\n",
       "        <td style=\"padding-left: 1em; padding-right: 1em; text-align: center; vertical-align: top\">TA</td>\n",
       "    </tr>\n",
       "    <tr>\n",
       "        <td style=\"padding-left: 1em; padding-right: 1em; text-align: center; vertical-align: top\">03/06/15</td>\n",
       "        <td style=\"padding-left: 1em; padding-right: 1em; text-align: center; vertical-align: top\">11/02/15</td>\n",
       "        <td style=\"padding-left: 1em; padding-right: 1em; text-align: center; vertical-align: top\">ADT</td>\n",
       "        <td style=\"padding-left: 1em; padding-right: 1em; text-align: center; vertical-align: top\">DOH</td>\n",
       "        <td style=\"padding-left: 1em; padding-right: 1em; text-align: center; vertical-align: top\">DXB</td>\n",
       "        <td style=\"padding-left: 1em; padding-right: 1em; text-align: center; vertical-align: top\">11/04/15</td>\n",
       "        <td style=\"padding-left: 1em; padding-right: 1em; text-align: center; vertical-align: top\">AED</td>\n",
       "        <td style=\"padding-left: 1em; padding-right: 1em; text-align: center; vertical-align: top\">GDS</td>\n",
       "    </tr>\n",
       "    <tr>\n",
       "        <td style=\"padding-left: 1em; padding-right: 1em; text-align: center; vertical-align: top\">03/06/15</td>\n",
       "        <td style=\"padding-left: 1em; padding-right: 1em; text-align: center; vertical-align: top\">11/02/15</td>\n",
       "        <td style=\"padding-left: 1em; padding-right: 1em; text-align: center; vertical-align: top\">ADT</td>\n",
       "        <td style=\"padding-left: 1em; padding-right: 1em; text-align: center; vertical-align: top\">JED</td>\n",
       "        <td style=\"padding-left: 1em; padding-right: 1em; text-align: center; vertical-align: top\">DXB</td>\n",
       "        <td style=\"padding-left: 1em; padding-right: 1em; text-align: center; vertical-align: top\">11/05/15</td>\n",
       "        <td style=\"padding-left: 1em; padding-right: 1em; text-align: center; vertical-align: top\">SAR</td>\n",
       "        <td style=\"padding-left: 1em; padding-right: 1em; text-align: center; vertical-align: top\">WEB</td>\n",
       "    </tr>\n",
       "    <tr>\n",
       "        <td style=\"padding-left: 1em; padding-right: 1em; text-align: center; vertical-align: top\">03/06/15</td>\n",
       "        <td style=\"padding-left: 1em; padding-right: 1em; text-align: center; vertical-align: top\">11/02/15</td>\n",
       "        <td style=\"padding-left: 1em; padding-right: 1em; text-align: center; vertical-align: top\">ADT</td>\n",
       "        <td style=\"padding-left: 1em; padding-right: 1em; text-align: center; vertical-align: top\">DXB</td>\n",
       "        <td style=\"padding-left: 1em; padding-right: 1em; text-align: center; vertical-align: top\">BND</td>\n",
       "        <td style=\"padding-left: 1em; padding-right: 1em; text-align: center; vertical-align: top\">11/13/15</td>\n",
       "        <td style=\"padding-left: 1em; padding-right: 1em; text-align: center; vertical-align: top\">USD</td>\n",
       "        <td style=\"padding-left: 1em; padding-right: 1em; text-align: center; vertical-align: top\">TA</td>\n",
       "    </tr>\n",
       "    <tr>\n",
       "        <td style=\"padding-left: 1em; padding-right: 1em; text-align: center; vertical-align: top\">03/06/15</td>\n",
       "        <td style=\"padding-left: 1em; padding-right: 1em; text-align: center; vertical-align: top\">11/02/15</td>\n",
       "        <td style=\"padding-left: 1em; padding-right: 1em; text-align: center; vertical-align: top\">ADT</td>\n",
       "        <td style=\"padding-left: 1em; padding-right: 1em; text-align: center; vertical-align: top\">ODS</td>\n",
       "        <td style=\"padding-left: 1em; padding-right: 1em; text-align: center; vertical-align: top\">DXB</td>\n",
       "        <td style=\"padding-left: 1em; padding-right: 1em; text-align: center; vertical-align: top\">11/03/15</td>\n",
       "        <td style=\"padding-left: 1em; padding-right: 1em; text-align: center; vertical-align: top\">USD</td>\n",
       "        <td style=\"padding-left: 1em; padding-right: 1em; text-align: center; vertical-align: top\">GDS</td>\n",
       "    </tr>\n",
       "    <tr>\n",
       "        <td style=\"padding-left: 1em; padding-right: 1em; text-align: center; vertical-align: top\">03/06/15</td>\n",
       "        <td style=\"padding-left: 1em; padding-right: 1em; text-align: center; vertical-align: top\">11/02/15</td>\n",
       "        <td style=\"padding-left: 1em; padding-right: 1em; text-align: center; vertical-align: top\">ADT</td>\n",
       "        <td style=\"padding-left: 1em; padding-right: 1em; text-align: center; vertical-align: top\">DXB</td>\n",
       "        <td style=\"padding-left: 1em; padding-right: 1em; text-align: center; vertical-align: top\">JED</td>\n",
       "        <td style=\"padding-left: 1em; padding-right: 1em; text-align: center; vertical-align: top\">11/09/15</td>\n",
       "        <td style=\"padding-left: 1em; padding-right: 1em; text-align: center; vertical-align: top\">SAR</td>\n",
       "        <td style=\"padding-left: 1em; padding-right: 1em; text-align: center; vertical-align: top\">WEB</td>\n",
       "    </tr>\n",
       "</table>\n",
       "<table frame=\"box\" rules=\"cols\">\n",
       "    <tr>\n",
       "        <th style=\"padding-left: 1em; padding-right: 1em; text-align: center\">Total Price (AED)</th>\n",
       "        <th style=\"padding-left: 1em; padding-right: 1em; text-align: center\">POS (Processed Field)</th>\n",
       "        <th style=\"padding-left: 1em; padding-right: 1em; text-align: center\">Age</th>\n",
       "        <th style=\"padding-left: 1em; padding-right: 1em; text-align: center\">Date of Departure</th>\n",
       "        <th style=\"padding-left: 1em; padding-right: 1em; text-align: center\">Date of Booking</th>\n",
       "        <th style=\"padding-left: 1em; padding-right: 1em; text-align: center\">X14</th>\n",
       "    </tr>\n",
       "    <tr>\n",
       "        <td style=\"padding-left: 1em; padding-right: 1em; text-align: center; vertical-align: top\">257.58</td>\n",
       "        <td style=\"padding-left: 1em; padding-right: 1em; text-align: center; vertical-align: top\">JED</td>\n",
       "        <td style=\"padding-left: 1em; padding-right: 1em; text-align: center; vertical-align: top\">66</td>\n",
       "        <td style=\"padding-left: 1em; padding-right: 1em; text-align: center; vertical-align: top\">2015-11-09 00:00:00</td>\n",
       "        <td style=\"padding-left: 1em; padding-right: 1em; text-align: center; vertical-align: top\">2015-11-02 00:00:00</td>\n",
       "        <td style=\"padding-left: 1em; padding-right: 1em; text-align: center; vertical-align: top\">604800.0</td>\n",
       "    </tr>\n",
       "    <tr>\n",
       "        <td style=\"padding-left: 1em; padding-right: 1em; text-align: center; vertical-align: top\">253.44</td>\n",
       "        <td style=\"padding-left: 1em; padding-right: 1em; text-align: center; vertical-align: top\">BND</td>\n",
       "        <td style=\"padding-left: 1em; padding-right: 1em; text-align: center; vertical-align: top\">27</td>\n",
       "        <td style=\"padding-left: 1em; padding-right: 1em; text-align: center; vertical-align: top\">2015-11-08 00:00:00</td>\n",
       "        <td style=\"padding-left: 1em; padding-right: 1em; text-align: center; vertical-align: top\">2015-11-02 00:00:00</td>\n",
       "        <td style=\"padding-left: 1em; padding-right: 1em; text-align: center; vertical-align: top\">518400.0</td>\n",
       "    </tr>\n",
       "    <tr>\n",
       "        <td style=\"padding-left: 1em; padding-right: 1em; text-align: center; vertical-align: top\">300.0</td>\n",
       "        <td style=\"padding-left: 1em; padding-right: 1em; text-align: center; vertical-align: top\">MISC</td>\n",
       "        <td style=\"padding-left: 1em; padding-right: 1em; text-align: center; vertical-align: top\">67</td>\n",
       "        <td style=\"padding-left: 1em; padding-right: 1em; text-align: center; vertical-align: top\">2016-03-05 00:00:00</td>\n",
       "        <td style=\"padding-left: 1em; padding-right: 1em; text-align: center; vertical-align: top\">2015-11-02 00:00:00</td>\n",
       "        <td style=\"padding-left: 1em; padding-right: 1em; text-align: center; vertical-align: top\">10713600.0</td>\n",
       "    </tr>\n",
       "    <tr>\n",
       "        <td style=\"padding-left: 1em; padding-right: 1em; text-align: center; vertical-align: top\">186.57</td>\n",
       "        <td style=\"padding-left: 1em; padding-right: 1em; text-align: center; vertical-align: top\">OTP</td>\n",
       "        <td style=\"padding-left: 1em; padding-right: 1em; text-align: center; vertical-align: top\">50</td>\n",
       "        <td style=\"padding-left: 1em; padding-right: 1em; text-align: center; vertical-align: top\">2015-11-23 00:00:00</td>\n",
       "        <td style=\"padding-left: 1em; padding-right: 1em; text-align: center; vertical-align: top\">2015-11-02 00:00:00</td>\n",
       "        <td style=\"padding-left: 1em; padding-right: 1em; text-align: center; vertical-align: top\">1814400.0</td>\n",
       "    </tr>\n",
       "    <tr>\n",
       "        <td style=\"padding-left: 1em; padding-right: 1em; text-align: center; vertical-align: top\">170.42</td>\n",
       "        <td style=\"padding-left: 1em; padding-right: 1em; text-align: center; vertical-align: top\">AJF</td>\n",
       "        <td style=\"padding-left: 1em; padding-right: 1em; text-align: center; vertical-align: top\">49</td>\n",
       "        <td style=\"padding-left: 1em; padding-right: 1em; text-align: center; vertical-align: top\">2015-11-03 00:00:00</td>\n",
       "        <td style=\"padding-left: 1em; padding-right: 1em; text-align: center; vertical-align: top\">2015-11-02 00:00:00</td>\n",
       "        <td style=\"padding-left: 1em; padding-right: 1em; text-align: center; vertical-align: top\">86400.0</td>\n",
       "    </tr>\n",
       "    <tr>\n",
       "        <td style=\"padding-left: 1em; padding-right: 1em; text-align: center; vertical-align: top\">0.0</td>\n",
       "        <td style=\"padding-left: 1em; padding-right: 1em; text-align: center; vertical-align: top\">DXB</td>\n",
       "        <td style=\"padding-left: 1em; padding-right: 1em; text-align: center; vertical-align: top\">61</td>\n",
       "        <td style=\"padding-left: 1em; padding-right: 1em; text-align: center; vertical-align: top\">2015-11-04 00:00:00</td>\n",
       "        <td style=\"padding-left: 1em; padding-right: 1em; text-align: center; vertical-align: top\">2015-11-02 00:00:00</td>\n",
       "        <td style=\"padding-left: 1em; padding-right: 1em; text-align: center; vertical-align: top\">172800.0</td>\n",
       "    </tr>\n",
       "    <tr>\n",
       "        <td style=\"padding-left: 1em; padding-right: 1em; text-align: center; vertical-align: top\">623.15</td>\n",
       "        <td style=\"padding-left: 1em; padding-right: 1em; text-align: center; vertical-align: top\">JED</td>\n",
       "        <td style=\"padding-left: 1em; padding-right: 1em; text-align: center; vertical-align: top\">21</td>\n",
       "        <td style=\"padding-left: 1em; padding-right: 1em; text-align: center; vertical-align: top\">2015-11-05 00:00:00</td>\n",
       "        <td style=\"padding-left: 1em; padding-right: 1em; text-align: center; vertical-align: top\">2015-11-02 00:00:00</td>\n",
       "        <td style=\"padding-left: 1em; padding-right: 1em; text-align: center; vertical-align: top\">259200.0</td>\n",
       "    </tr>\n",
       "    <tr>\n",
       "        <td style=\"padding-left: 1em; padding-right: 1em; text-align: center; vertical-align: top\">297.52</td>\n",
       "        <td style=\"padding-left: 1em; padding-right: 1em; text-align: center; vertical-align: top\">BND</td>\n",
       "        <td style=\"padding-left: 1em; padding-right: 1em; text-align: center; vertical-align: top\">63</td>\n",
       "        <td style=\"padding-left: 1em; padding-right: 1em; text-align: center; vertical-align: top\">2015-11-13 00:00:00</td>\n",
       "        <td style=\"padding-left: 1em; padding-right: 1em; text-align: center; vertical-align: top\">2015-11-02 00:00:00</td>\n",
       "        <td style=\"padding-left: 1em; padding-right: 1em; text-align: center; vertical-align: top\">950400.0</td>\n",
       "    </tr>\n",
       "    <tr>\n",
       "        <td style=\"padding-left: 1em; padding-right: 1em; text-align: center; vertical-align: top\">301.19</td>\n",
       "        <td style=\"padding-left: 1em; padding-right: 1em; text-align: center; vertical-align: top\">DXB</td>\n",
       "        <td style=\"padding-left: 1em; padding-right: 1em; text-align: center; vertical-align: top\">65</td>\n",
       "        <td style=\"padding-left: 1em; padding-right: 1em; text-align: center; vertical-align: top\">2015-11-03 00:00:00</td>\n",
       "        <td style=\"padding-left: 1em; padding-right: 1em; text-align: center; vertical-align: top\">2015-11-02 00:00:00</td>\n",
       "        <td style=\"padding-left: 1em; padding-right: 1em; text-align: center; vertical-align: top\">86400.0</td>\n",
       "    </tr>\n",
       "    <tr>\n",
       "        <td style=\"padding-left: 1em; padding-right: 1em; text-align: center; vertical-align: top\">257.58</td>\n",
       "        <td style=\"padding-left: 1em; padding-right: 1em; text-align: center; vertical-align: top\">JED</td>\n",
       "        <td style=\"padding-left: 1em; padding-right: 1em; text-align: center; vertical-align: top\">27</td>\n",
       "        <td style=\"padding-left: 1em; padding-right: 1em; text-align: center; vertical-align: top\">2015-11-09 00:00:00</td>\n",
       "        <td style=\"padding-left: 1em; padding-right: 1em; text-align: center; vertical-align: top\">2015-11-02 00:00:00</td>\n",
       "        <td style=\"padding-left: 1em; padding-right: 1em; text-align: center; vertical-align: top\">604800.0</td>\n",
       "    </tr>\n",
       "</table>\n",
       "[111717 rows x 14 columns]<br/>Note: Only the head of the SFrame is printed.<br/>You can use print_rows(num_rows=m, num_columns=n) to print more rows and columns.\n",
       "</div>"
      ],
      "text/plain": [
       "Columns:\n",
       "\tPNR Booked date\tstr\n",
       "\tOD booked date\tstr\n",
       "\tPax Type\tstr\n",
       "\tOrigin\tstr\n",
       "\tDestination\tstr\n",
       "\tDeparture Date\tstr\n",
       "\tRes Currency\tstr\n",
       "\tBooking Channel\tstr\n",
       "\tTotal Price (AED)\tfloat\n",
       "\tPOS (Processed Field)\tstr\n",
       "\tAge\tint\n",
       "\tDate of Departure\tdatetime\n",
       "\tDate of Booking\tdatetime\n",
       "\tX14\tfloat\n",
       "\n",
       "Rows: 111717\n",
       "\n",
       "Data:\n",
       "+-----------------+----------------+----------+--------+-------------+----------------+\n",
       "| PNR Booked date | OD booked date | Pax Type | Origin | Destination | Departure Date |\n",
       "+-----------------+----------------+----------+--------+-------------+----------------+\n",
       "|     03/06/15    |    11/02/15    |   ADT    |  DXB   |     JED     |    11/09/15    |\n",
       "|     03/06/15    |    11/02/15    |   ADT    |  BND   |     DXB     |    11/08/15    |\n",
       "|     03/06/15    |    11/02/15    |   ADT    |  DXB   |     KTM     |    03/05/16    |\n",
       "|     03/06/15    |    11/02/15    |   ADT    |  OTP   |     DXB     |    11/23/15    |\n",
       "|     03/06/15    |    11/02/15    |   ADT    |  AJF   |     DXB     |    11/03/15    |\n",
       "|     03/06/15    |    11/02/15    |   ADT    |  DOH   |     DXB     |    11/04/15    |\n",
       "|     03/06/15    |    11/02/15    |   ADT    |  JED   |     DXB     |    11/05/15    |\n",
       "|     03/06/15    |    11/02/15    |   ADT    |  DXB   |     BND     |    11/13/15    |\n",
       "|     03/06/15    |    11/02/15    |   ADT    |  ODS   |     DXB     |    11/03/15    |\n",
       "|     03/06/15    |    11/02/15    |   ADT    |  DXB   |     JED     |    11/09/15    |\n",
       "+-----------------+----------------+----------+--------+-------------+----------------+\n",
       "+--------------+-----------------+-------------------+-----------------------+\n",
       "| Res Currency | Booking Channel | Total Price (AED) | POS (Processed Field) |\n",
       "+--------------+-----------------+-------------------+-----------------------+\n",
       "|     SAR      |       WEB       |       257.58      |          JED          |\n",
       "|     USD      |        TA       |       253.44      |          BND          |\n",
       "|     AED      |    INTERLINE    |       300.0       |          MISC         |\n",
       "|     EUR      |       GDS       |       186.57      |          OTP          |\n",
       "|     SAR      |        TA       |       170.42      |          AJF          |\n",
       "|     AED      |       GDS       |        0.0        |          DXB          |\n",
       "|     SAR      |       WEB       |       623.15      |          JED          |\n",
       "|     USD      |        TA       |       297.52      |          BND          |\n",
       "|     USD      |       GDS       |       301.19      |          DXB          |\n",
       "|     SAR      |       WEB       |       257.58      |          JED          |\n",
       "+--------------+-----------------+-------------------+-----------------------+\n",
       "+-----+---------------------+---------------------+------------+\n",
       "| Age |  Date of Departure  |   Date of Booking   |    X14     |\n",
       "+-----+---------------------+---------------------+------------+\n",
       "|  66 | 2015-11-09 00:00:00 | 2015-11-02 00:00:00 |  604800.0  |\n",
       "|  27 | 2015-11-08 00:00:00 | 2015-11-02 00:00:00 |  518400.0  |\n",
       "|  67 | 2016-03-05 00:00:00 | 2015-11-02 00:00:00 | 10713600.0 |\n",
       "|  50 | 2015-11-23 00:00:00 | 2015-11-02 00:00:00 | 1814400.0  |\n",
       "|  49 | 2015-11-03 00:00:00 | 2015-11-02 00:00:00 |  86400.0   |\n",
       "|  61 | 2015-11-04 00:00:00 | 2015-11-02 00:00:00 |  172800.0  |\n",
       "|  21 | 2015-11-05 00:00:00 | 2015-11-02 00:00:00 |  259200.0  |\n",
       "|  63 | 2015-11-13 00:00:00 | 2015-11-02 00:00:00 |  950400.0  |\n",
       "|  65 | 2015-11-03 00:00:00 | 2015-11-02 00:00:00 |  86400.0   |\n",
       "|  27 | 2015-11-09 00:00:00 | 2015-11-02 00:00:00 |  604800.0  |\n",
       "+-----+---------------------+---------------------+------------+\n",
       "[111717 rows x 14 columns]\n",
       "Note: Only the head of the SFrame is printed.\n",
       "You can use print_rows(num_rows=m, num_columns=n) to print more rows and columns."
      ]
     },
     "execution_count": 103,
     "metadata": {},
     "output_type": "execute_result"
    }
   ],
   "source": [
    "wiki.add_column(dt_days)"
   ]
  },
  {
   "cell_type": "code",
   "execution_count": 104,
   "metadata": {
    "collapsed": false
   },
   "outputs": [],
   "source": [
    "features = [\"Age\",\"X14\",\"Booking Channel\"]"
   ]
  },
  {
   "cell_type": "code",
   "execution_count": 105,
   "metadata": {
    "collapsed": false
   },
   "outputs": [
    {
     "name": "stderr",
     "output_type": "stream",
     "text": [
      "2016-10-29 01:07:59,406 [WARNING] root, 174: Feature 'Booking Channel' excluded because of its type. Kmeans features must be int, float, dict, or array.array type.\n"
     ]
    },
    {
     "data": {
      "text/html": [
       "<pre>Batch size is larger than the input dataset. Switching to an exact Kmeans method.</pre>"
      ],
      "text/plain": [
       "Batch size is larger than the input dataset. Switching to an exact Kmeans method."
      ]
     },
     "metadata": {},
     "output_type": "display_data"
    },
    {
     "data": {
      "text/html": [
       "<pre>Choosing initial cluster centers with Kmeans++.</pre>"
      ],
      "text/plain": [
       "Choosing initial cluster centers with Kmeans++."
      ]
     },
     "metadata": {},
     "output_type": "display_data"
    },
    {
     "data": {
      "text/html": [
       "<pre>+---------------+-----------+</pre>"
      ],
      "text/plain": [
       "+---------------+-----------+"
      ]
     },
     "metadata": {},
     "output_type": "display_data"
    },
    {
     "data": {
      "text/html": [
       "<pre>| Center number | Row index |</pre>"
      ],
      "text/plain": [
       "| Center number | Row index |"
      ]
     },
     "metadata": {},
     "output_type": "display_data"
    },
    {
     "data": {
      "text/html": [
       "<pre>+---------------+-----------+</pre>"
      ],
      "text/plain": [
       "+---------------+-----------+"
      ]
     },
     "metadata": {},
     "output_type": "display_data"
    },
    {
     "data": {
      "text/html": [
       "<pre>| 0             | 4298      |</pre>"
      ],
      "text/plain": [
       "| 0             | 4298      |"
      ]
     },
     "metadata": {},
     "output_type": "display_data"
    },
    {
     "data": {
      "text/html": [
       "<pre>| 1             | 23162     |</pre>"
      ],
      "text/plain": [
       "| 1             | 23162     |"
      ]
     },
     "metadata": {},
     "output_type": "display_data"
    },
    {
     "data": {
      "text/html": [
       "<pre>| 2             | 68038     |</pre>"
      ],
      "text/plain": [
       "| 2             | 68038     |"
      ]
     },
     "metadata": {},
     "output_type": "display_data"
    },
    {
     "data": {
      "text/html": [
       "<pre>| 3             | 74235     |</pre>"
      ],
      "text/plain": [
       "| 3             | 74235     |"
      ]
     },
     "metadata": {},
     "output_type": "display_data"
    },
    {
     "data": {
      "text/html": [
       "<pre>| 4             | 80478     |</pre>"
      ],
      "text/plain": [
       "| 4             | 80478     |"
      ]
     },
     "metadata": {},
     "output_type": "display_data"
    },
    {
     "data": {
      "text/html": [
       "<pre>| 5             | 98246     |</pre>"
      ],
      "text/plain": [
       "| 5             | 98246     |"
      ]
     },
     "metadata": {},
     "output_type": "display_data"
    },
    {
     "data": {
      "text/html": [
       "<pre>+---------------+-----------+</pre>"
      ],
      "text/plain": [
       "+---------------+-----------+"
      ]
     },
     "metadata": {},
     "output_type": "display_data"
    },
    {
     "data": {
      "text/html": [
       "<pre>Starting kmeans model training.</pre>"
      ],
      "text/plain": [
       "Starting kmeans model training."
      ]
     },
     "metadata": {},
     "output_type": "display_data"
    },
    {
     "data": {
      "text/html": [
       "<pre>Assigning points to initial cluster centers.</pre>"
      ],
      "text/plain": [
       "Assigning points to initial cluster centers."
      ]
     },
     "metadata": {},
     "output_type": "display_data"
    },
    {
     "data": {
      "text/html": [
       "<pre>+-----------+-------------------------------+</pre>"
      ],
      "text/plain": [
       "+-----------+-------------------------------+"
      ]
     },
     "metadata": {},
     "output_type": "display_data"
    },
    {
     "data": {
      "text/html": [
       "<pre>| Iteration | Number of changed assignments |</pre>"
      ],
      "text/plain": [
       "| Iteration | Number of changed assignments |"
      ]
     },
     "metadata": {},
     "output_type": "display_data"
    },
    {
     "data": {
      "text/html": [
       "<pre>+-----------+-------------------------------+</pre>"
      ],
      "text/plain": [
       "+-----------+-------------------------------+"
      ]
     },
     "metadata": {},
     "output_type": "display_data"
    },
    {
     "data": {
      "text/html": [
       "<pre>| 1         | 894                           |</pre>"
      ],
      "text/plain": [
       "| 1         | 894                           |"
      ]
     },
     "metadata": {},
     "output_type": "display_data"
    },
    {
     "data": {
      "text/html": [
       "<pre>| 2         | 2118                          |</pre>"
      ],
      "text/plain": [
       "| 2         | 2118                          |"
      ]
     },
     "metadata": {},
     "output_type": "display_data"
    },
    {
     "data": {
      "text/html": [
       "<pre>| 3         | 1533                          |</pre>"
      ],
      "text/plain": [
       "| 3         | 1533                          |"
      ]
     },
     "metadata": {},
     "output_type": "display_data"
    },
    {
     "data": {
      "text/html": [
       "<pre>| 4         | 2667                          |</pre>"
      ],
      "text/plain": [
       "| 4         | 2667                          |"
      ]
     },
     "metadata": {},
     "output_type": "display_data"
    },
    {
     "data": {
      "text/html": [
       "<pre>| 5         | 1923                          |</pre>"
      ],
      "text/plain": [
       "| 5         | 1923                          |"
      ]
     },
     "metadata": {},
     "output_type": "display_data"
    },
    {
     "data": {
      "text/html": [
       "<pre>| 6         | 1641                          |</pre>"
      ],
      "text/plain": [
       "| 6         | 1641                          |"
      ]
     },
     "metadata": {},
     "output_type": "display_data"
    },
    {
     "data": {
      "text/html": [
       "<pre>| 7         | 1905                          |</pre>"
      ],
      "text/plain": [
       "| 7         | 1905                          |"
      ]
     },
     "metadata": {},
     "output_type": "display_data"
    },
    {
     "data": {
      "text/html": [
       "<pre>| 8         | 2001                          |</pre>"
      ],
      "text/plain": [
       "| 8         | 2001                          |"
      ]
     },
     "metadata": {},
     "output_type": "display_data"
    },
    {
     "data": {
      "text/html": [
       "<pre>| 9         | 1197                          |</pre>"
      ],
      "text/plain": [
       "| 9         | 1197                          |"
      ]
     },
     "metadata": {},
     "output_type": "display_data"
    },
    {
     "data": {
      "text/html": [
       "<pre>| 10        | 2172                          |</pre>"
      ],
      "text/plain": [
       "| 10        | 2172                          |"
      ]
     },
     "metadata": {},
     "output_type": "display_data"
    },
    {
     "data": {
      "text/html": [
       "<pre>+-----------+-------------------------------+</pre>"
      ],
      "text/plain": [
       "+-----------+-------------------------------+"
      ]
     },
     "metadata": {},
     "output_type": "display_data"
    },
    {
     "data": {
      "text/html": [
       "<pre>WARNING: Clustering did not converge within max_iterations.</pre>"
      ],
      "text/plain": [
       "WARNING: Clustering did not converge within max_iterations."
      ]
     },
     "metadata": {},
     "output_type": "display_data"
    }
   ],
   "source": [
    "kmeans_model_behavioural = graphlab.kmeans.create(wiki, num_clusters=6, features = features)"
   ]
  },
  {
   "cell_type": "code",
   "execution_count": 107,
   "metadata": {
    "collapsed": false
   },
   "outputs": [
    {
     "name": "stdout",
     "output_type": "stream",
     "text": [
      "Class                           : KmeansModel\n",
      "\n",
      "Schema\n",
      "------\n",
      "Number of clusters              : 6\n",
      "Number of examples              : 111717\n",
      "Number of feature columns       : 2\n",
      "Number of unpacked features     : 2\n",
      "Row label name                  : row_id\n",
      "\n",
      "Training Summary\n",
      "----------------\n",
      "Training method                 : elkan\n",
      "Number of training iterations   : 10\n",
      "Batch size                      : 111717\n",
      "Total training time (seconds)   : 1.4095\n",
      "\n",
      "Accessible fields\n",
      "-----------------\n",
      "cluster_id                      : An SFrame containing the cluster assignments.\n",
      "cluster_info                    : An SFrame containing the cluster centers.\n"
     ]
    }
   ],
   "source": [
    "kmeans_model_behavioural.summary()"
   ]
  },
  {
   "cell_type": "code",
   "execution_count": 108,
   "metadata": {
    "collapsed": false
   },
   "outputs": [
    {
     "name": "stdout",
     "output_type": "stream",
     "text": [
      "+---------------+---------------+------------+-------+----------------------+\n",
      "|      Age      |      X14      | cluster_id |  size | sum_squared_distance |\n",
      "+---------------+---------------+------------+-------+----------------------+\n",
      "| 42.1549438891 | 569228.313982 |     0      | 65622 |  1.18050477406e+16   |\n",
      "| 41.2897897898 | 25285232.4324 |     1      |  678  |  3.59504669721e+15   |\n",
      "| 43.0867098865 | 10550882.3339 |     2      |  3792 |  7.96132783886e+15   |\n",
      "| 42.4221311475 | 6074102.10773 |     3      | 15801 |  1.68090807875e+16   |\n",
      "| 40.7687991021 | 17124072.7273 |     4      |  963  |  4.75558575395e+15   |\n",
      "| 41.7424787916 | 2885406.03352 |     5      | 24861 |  1.26332056262e+16   |\n",
      "+---------------+---------------+------------+-------+----------------------+\n",
      "[6 rows x 5 columns]\n",
      "\n"
     ]
    }
   ],
   "source": [
    "kmeans_model_behavioural['cluster_info'].print_rows()"
   ]
  },
  {
   "cell_type": "code",
   "execution_count": 114,
   "metadata": {
    "collapsed": false
   },
   "outputs": [
    {
     "data": {
      "text/plain": [
       "dtype: str\n",
       "Rows: 5\n",
       "['GDS', 'CC', 'TA', 'INTERLINE', 'WEB']"
      ]
     },
     "execution_count": 114,
     "metadata": {},
     "output_type": "execute_result"
    }
   ],
   "source": [
    "wiki[\"Booking Channel\"].unique()"
   ]
  },
  {
   "cell_type": "code",
   "execution_count": 116,
   "metadata": {
    "collapsed": false
   },
   "outputs": [
    {
     "name": "stdout",
     "output_type": "stream",
     "text": [
      "Canvas is accessible via web browser at the URL: http://localhost:45667/index.html\n",
      "Opening Canvas in default web browser.\n"
     ]
    }
   ],
   "source": [
    "kmeans_model_behavioural.show()"
   ]
  }
 ],
 "metadata": {
  "kernelspec": {
   "display_name": "Python 2",
   "language": "python",
   "name": "python2"
  },
  "language_info": {
   "codemirror_mode": {
    "name": "ipython",
    "version": 2
   },
   "file_extension": ".py",
   "mimetype": "text/x-python",
   "name": "python",
   "nbconvert_exporter": "python",
   "pygments_lexer": "ipython2",
   "version": "2.7.10"
  }
 },
 "nbformat": 4,
 "nbformat_minor": 0
}
